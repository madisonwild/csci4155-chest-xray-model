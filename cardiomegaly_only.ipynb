{
 "cells": [
  {
   "cell_type": "markdown",
   "id": "cd6bb830",
   "metadata": {},
   "source": [
    "# ChestX-ray 14 Data Preprocessing, Model Training, and Model Testing - Cardiomegaly Only\n",
    "## Madison Moffat-Wild and Rachel Woodside\n",
    "\n",
    "### https://paperswithcode.com/dataset/chestx-ray14\n",
    "### https://www.kaggle.com/datasets/nih-chest-xrays/data/data\n",
    "### https://www.kaggle.com/code/rerere/nih-chest-x-rays-deep-convolutional-network/notebook\n",
    "\n",
    "Resources:\n",
    "https://machinelearningmastery.com/best-practices-for-preparing-and-augmenting-image-data-for-convolutional-neural-networks/"
   ]
  },
  {
   "cell_type": "markdown",
   "id": "c4615af3",
   "metadata": {},
   "source": [
    "## Set up"
   ]
  },
  {
   "cell_type": "markdown",
   "id": "c48cf60e",
   "metadata": {},
   "source": [
    "### Import Libraries"
   ]
  },
  {
   "cell_type": "code",
   "execution_count": 52,
   "id": "3aacba5b",
   "metadata": {},
   "outputs": [],
   "source": [
    "import pathlib\n",
    "import itertools\n",
    "import glob\n",
    "import PIL\n",
    "\n",
    "import numpy as np\n",
    "import pandas as pd\n",
    "\n",
    "import matplotlib.pyplot as plt\n",
    "import seaborn as sns\n",
    "\n",
    "import tensorflow as tf\n",
    "import tensorflow_addons as tfa\n",
    "\n",
    "from tensorflow.keras.applications import VGG19\n",
    "from tensorflow.keras.models import Sequential, Model\n",
    "from tensorflow.keras.layers import LayerNormalization, Input, LSTM, GRU, TimeDistributed\n",
    "from tensorflow.keras.layers import Conv2D, BatchNormalization, ReLU, MaxPooling2D, Flatten, Dropout, GlobalAveragePooling2D, Dense, Softmax, Bidirectional, GlobalAveragePooling1D\n",
    "from tensorflow.keras.optimizers import Adam\n",
    "\n",
    "from sklearn.model_selection import train_test_split\n",
    "from sklearn.metrics import roc_auc_score, roc_curve"
   ]
  },
  {
   "cell_type": "markdown",
   "id": "e73f4d32",
   "metadata": {},
   "source": [
    "### Initialize Path to Data"
   ]
  },
  {
   "cell_type": "code",
   "execution_count": 53,
   "id": "be105ce5",
   "metadata": {},
   "outputs": [],
   "source": [
    "# Store path to data folder\n",
    "#data_folder = \"~/ChestXray14Data/\"\n",
    "data_folder = \"data/\"\n",
    "data_dir = pathlib.Path(data_folder).with_suffix('')"
   ]
  },
  {
   "cell_type": "markdown",
   "id": "09eab087",
   "metadata": {},
   "source": [
    "### Read in Data Frames"
   ]
  },
  {
   "cell_type": "code",
   "execution_count": 54,
   "id": "4ed6b82e",
   "metadata": {},
   "outputs": [
    {
     "data": {
      "text/html": [
       "<div>\n",
       "<style scoped>\n",
       "    .dataframe tbody tr th:only-of-type {\n",
       "        vertical-align: middle;\n",
       "    }\n",
       "\n",
       "    .dataframe tbody tr th {\n",
       "        vertical-align: top;\n",
       "    }\n",
       "\n",
       "    .dataframe thead th {\n",
       "        text-align: right;\n",
       "    }\n",
       "</style>\n",
       "<table border=\"1\" class=\"dataframe\">\n",
       "  <thead>\n",
       "    <tr style=\"text-align: right;\">\n",
       "      <th></th>\n",
       "      <th>Image Index</th>\n",
       "      <th>Finding Labels</th>\n",
       "      <th>Follow-up #</th>\n",
       "      <th>Patient ID</th>\n",
       "      <th>Patient Age</th>\n",
       "      <th>Patient Gender</th>\n",
       "      <th>View Position</th>\n",
       "      <th>OriginalImage[Width</th>\n",
       "      <th>Height]</th>\n",
       "      <th>OriginalImagePixelSpacing[x</th>\n",
       "      <th>y]</th>\n",
       "      <th>Unnamed: 11</th>\n",
       "    </tr>\n",
       "  </thead>\n",
       "  <tbody>\n",
       "    <tr>\n",
       "      <th>0</th>\n",
       "      <td>00000001_000.png</td>\n",
       "      <td>Cardiomegaly</td>\n",
       "      <td>0</td>\n",
       "      <td>1</td>\n",
       "      <td>58</td>\n",
       "      <td>M</td>\n",
       "      <td>PA</td>\n",
       "      <td>2682</td>\n",
       "      <td>2749</td>\n",
       "      <td>0.143</td>\n",
       "      <td>0.143</td>\n",
       "      <td>NaN</td>\n",
       "    </tr>\n",
       "    <tr>\n",
       "      <th>1</th>\n",
       "      <td>00000001_001.png</td>\n",
       "      <td>Cardiomegaly|Emphysema</td>\n",
       "      <td>1</td>\n",
       "      <td>1</td>\n",
       "      <td>58</td>\n",
       "      <td>M</td>\n",
       "      <td>PA</td>\n",
       "      <td>2894</td>\n",
       "      <td>2729</td>\n",
       "      <td>0.143</td>\n",
       "      <td>0.143</td>\n",
       "      <td>NaN</td>\n",
       "    </tr>\n",
       "    <tr>\n",
       "      <th>2</th>\n",
       "      <td>00000001_002.png</td>\n",
       "      <td>Cardiomegaly|Effusion</td>\n",
       "      <td>2</td>\n",
       "      <td>1</td>\n",
       "      <td>58</td>\n",
       "      <td>M</td>\n",
       "      <td>PA</td>\n",
       "      <td>2500</td>\n",
       "      <td>2048</td>\n",
       "      <td>0.168</td>\n",
       "      <td>0.168</td>\n",
       "      <td>NaN</td>\n",
       "    </tr>\n",
       "    <tr>\n",
       "      <th>3</th>\n",
       "      <td>00000002_000.png</td>\n",
       "      <td>No Finding</td>\n",
       "      <td>0</td>\n",
       "      <td>2</td>\n",
       "      <td>81</td>\n",
       "      <td>M</td>\n",
       "      <td>PA</td>\n",
       "      <td>2500</td>\n",
       "      <td>2048</td>\n",
       "      <td>0.171</td>\n",
       "      <td>0.171</td>\n",
       "      <td>NaN</td>\n",
       "    </tr>\n",
       "    <tr>\n",
       "      <th>4</th>\n",
       "      <td>00000003_000.png</td>\n",
       "      <td>Hernia</td>\n",
       "      <td>0</td>\n",
       "      <td>3</td>\n",
       "      <td>81</td>\n",
       "      <td>F</td>\n",
       "      <td>PA</td>\n",
       "      <td>2582</td>\n",
       "      <td>2991</td>\n",
       "      <td>0.143</td>\n",
       "      <td>0.143</td>\n",
       "      <td>NaN</td>\n",
       "    </tr>\n",
       "  </tbody>\n",
       "</table>\n",
       "</div>"
      ],
      "text/plain": [
       "        Image Index          Finding Labels  Follow-up #  Patient ID  \\\n",
       "0  00000001_000.png            Cardiomegaly            0           1   \n",
       "1  00000001_001.png  Cardiomegaly|Emphysema            1           1   \n",
       "2  00000001_002.png   Cardiomegaly|Effusion            2           1   \n",
       "3  00000002_000.png              No Finding            0           2   \n",
       "4  00000003_000.png                  Hernia            0           3   \n",
       "\n",
       "   Patient Age Patient Gender View Position  OriginalImage[Width  Height]  \\\n",
       "0           58              M            PA                 2682     2749   \n",
       "1           58              M            PA                 2894     2729   \n",
       "2           58              M            PA                 2500     2048   \n",
       "3           81              M            PA                 2500     2048   \n",
       "4           81              F            PA                 2582     2991   \n",
       "\n",
       "   OriginalImagePixelSpacing[x     y]  Unnamed: 11  \n",
       "0                        0.143  0.143          NaN  \n",
       "1                        0.143  0.143          NaN  \n",
       "2                        0.168  0.168          NaN  \n",
       "3                        0.171  0.171          NaN  \n",
       "4                        0.143  0.143          NaN  "
      ]
     },
     "execution_count": 54,
     "metadata": {},
     "output_type": "execute_result"
    }
   ],
   "source": [
    "data = pd.read_csv(data_folder+'Data_Entry_2017.csv')\n",
    "data.head()"
   ]
  },
  {
   "cell_type": "markdown",
   "id": "93ff38ed",
   "metadata": {},
   "source": [
    "## Data Preprocessing"
   ]
  },
  {
   "cell_type": "markdown",
   "id": "62d1b549-6f6d-4176-956f-caca3e8e752d",
   "metadata": {},
   "source": [
    "### Rename Columns"
   ]
  },
  {
   "cell_type": "code",
   "execution_count": 55,
   "id": "62b409a6",
   "metadata": {},
   "outputs": [
    {
     "data": {
      "text/html": [
       "<div>\n",
       "<style scoped>\n",
       "    .dataframe tbody tr th:only-of-type {\n",
       "        vertical-align: middle;\n",
       "    }\n",
       "\n",
       "    .dataframe tbody tr th {\n",
       "        vertical-align: top;\n",
       "    }\n",
       "\n",
       "    .dataframe thead th {\n",
       "        text-align: right;\n",
       "    }\n",
       "</style>\n",
       "<table border=\"1\" class=\"dataframe\">\n",
       "  <thead>\n",
       "    <tr style=\"text-align: right;\">\n",
       "      <th></th>\n",
       "      <th>Image Index</th>\n",
       "      <th>Finding Labels</th>\n",
       "      <th>Follow-up #</th>\n",
       "      <th>Patient ID</th>\n",
       "      <th>Patient Age</th>\n",
       "      <th>Patient Gender</th>\n",
       "      <th>View Position</th>\n",
       "      <th>OriginalImageWidth</th>\n",
       "      <th>OriginalImageHeight</th>\n",
       "      <th>OriginalPixelSpacingX</th>\n",
       "      <th>OriginalPixelSpacingY</th>\n",
       "    </tr>\n",
       "  </thead>\n",
       "  <tbody>\n",
       "    <tr>\n",
       "      <th>0</th>\n",
       "      <td>00000001_000.png</td>\n",
       "      <td>Cardiomegaly</td>\n",
       "      <td>0</td>\n",
       "      <td>1</td>\n",
       "      <td>58</td>\n",
       "      <td>M</td>\n",
       "      <td>PA</td>\n",
       "      <td>2682</td>\n",
       "      <td>2749</td>\n",
       "      <td>0.143</td>\n",
       "      <td>0.143</td>\n",
       "    </tr>\n",
       "    <tr>\n",
       "      <th>1</th>\n",
       "      <td>00000001_001.png</td>\n",
       "      <td>Cardiomegaly|Emphysema</td>\n",
       "      <td>1</td>\n",
       "      <td>1</td>\n",
       "      <td>58</td>\n",
       "      <td>M</td>\n",
       "      <td>PA</td>\n",
       "      <td>2894</td>\n",
       "      <td>2729</td>\n",
       "      <td>0.143</td>\n",
       "      <td>0.143</td>\n",
       "    </tr>\n",
       "    <tr>\n",
       "      <th>2</th>\n",
       "      <td>00000001_002.png</td>\n",
       "      <td>Cardiomegaly|Effusion</td>\n",
       "      <td>2</td>\n",
       "      <td>1</td>\n",
       "      <td>58</td>\n",
       "      <td>M</td>\n",
       "      <td>PA</td>\n",
       "      <td>2500</td>\n",
       "      <td>2048</td>\n",
       "      <td>0.168</td>\n",
       "      <td>0.168</td>\n",
       "    </tr>\n",
       "    <tr>\n",
       "      <th>3</th>\n",
       "      <td>00000002_000.png</td>\n",
       "      <td>No Finding</td>\n",
       "      <td>0</td>\n",
       "      <td>2</td>\n",
       "      <td>81</td>\n",
       "      <td>M</td>\n",
       "      <td>PA</td>\n",
       "      <td>2500</td>\n",
       "      <td>2048</td>\n",
       "      <td>0.171</td>\n",
       "      <td>0.171</td>\n",
       "    </tr>\n",
       "    <tr>\n",
       "      <th>4</th>\n",
       "      <td>00000003_000.png</td>\n",
       "      <td>Hernia</td>\n",
       "      <td>0</td>\n",
       "      <td>3</td>\n",
       "      <td>81</td>\n",
       "      <td>F</td>\n",
       "      <td>PA</td>\n",
       "      <td>2582</td>\n",
       "      <td>2991</td>\n",
       "      <td>0.143</td>\n",
       "      <td>0.143</td>\n",
       "    </tr>\n",
       "  </tbody>\n",
       "</table>\n",
       "</div>"
      ],
      "text/plain": [
       "        Image Index          Finding Labels  Follow-up #  Patient ID  \\\n",
       "0  00000001_000.png            Cardiomegaly            0           1   \n",
       "1  00000001_001.png  Cardiomegaly|Emphysema            1           1   \n",
       "2  00000001_002.png   Cardiomegaly|Effusion            2           1   \n",
       "3  00000002_000.png              No Finding            0           2   \n",
       "4  00000003_000.png                  Hernia            0           3   \n",
       "\n",
       "   Patient Age Patient Gender View Position  OriginalImageWidth  \\\n",
       "0           58              M            PA                2682   \n",
       "1           58              M            PA                2894   \n",
       "2           58              M            PA                2500   \n",
       "3           81              M            PA                2500   \n",
       "4           81              F            PA                2582   \n",
       "\n",
       "   OriginalImageHeight  OriginalPixelSpacingX  OriginalPixelSpacingY  \n",
       "0                 2749                  0.143                  0.143  \n",
       "1                 2729                  0.143                  0.143  \n",
       "2                 2048                  0.168                  0.168  \n",
       "3                 2048                  0.171                  0.171  \n",
       "4                 2991                  0.143                  0.143  "
      ]
     },
     "execution_count": 55,
     "metadata": {},
     "output_type": "execute_result"
    }
   ],
   "source": [
    "data = data.rename(columns={\n",
    "    \"OriginalImagePixelSpacing[x\": \"OriginalPixelSpacingX\",\n",
    "    \"y]\": \"OriginalPixelSpacingY\",\n",
    "    \"OriginalImage[Width\": \"OriginalImageWidth\",\n",
    "    \"Height]\": \"OriginalImageHeight\"\n",
    "})\n",
    "data.drop(\"Unnamed: 11\", axis=1, inplace=True)\n",
    "data.head()"
   ]
  },
  {
   "cell_type": "code",
   "execution_count": 56,
   "id": "85412725",
   "metadata": {},
   "outputs": [],
   "source": [
    "# Replace age values > 100 with 100\n",
    "data['Patient Age'].where(data['Patient Age'] <= 100, 100, inplace=True)"
   ]
  },
  {
   "cell_type": "markdown",
   "id": "189aa0f5",
   "metadata": {},
   "source": [
    "### One-Hot Encode Multilabel Data"
   ]
  },
  {
   "cell_type": "code",
   "execution_count": 57,
   "id": "f8392e82",
   "metadata": {
    "scrolled": true
   },
   "outputs": [
    {
     "data": {
      "text/html": [
       "<div>\n",
       "<style scoped>\n",
       "    .dataframe tbody tr th:only-of-type {\n",
       "        vertical-align: middle;\n",
       "    }\n",
       "\n",
       "    .dataframe tbody tr th {\n",
       "        vertical-align: top;\n",
       "    }\n",
       "\n",
       "    .dataframe thead th {\n",
       "        text-align: right;\n",
       "    }\n",
       "</style>\n",
       "<table border=\"1\" class=\"dataframe\">\n",
       "  <thead>\n",
       "    <tr style=\"text-align: right;\">\n",
       "      <th></th>\n",
       "      <th>Cardiomegaly</th>\n",
       "      <th>Emphysema</th>\n",
       "      <th>Effusion</th>\n",
       "      <th>No Finding</th>\n",
       "      <th>Hernia</th>\n",
       "      <th>Infiltration</th>\n",
       "      <th>Mass</th>\n",
       "      <th>Nodule</th>\n",
       "      <th>Atelectasis</th>\n",
       "      <th>Pneumothorax</th>\n",
       "      <th>Pleural_Thickening</th>\n",
       "      <th>Pneumonia</th>\n",
       "      <th>Fibrosis</th>\n",
       "      <th>Edema</th>\n",
       "      <th>Consolidation</th>\n",
       "    </tr>\n",
       "  </thead>\n",
       "  <tbody>\n",
       "    <tr>\n",
       "      <th>0</th>\n",
       "      <td>1.0</td>\n",
       "      <td>0.0</td>\n",
       "      <td>0.0</td>\n",
       "      <td>0.0</td>\n",
       "      <td>0.0</td>\n",
       "      <td>0.0</td>\n",
       "      <td>0.0</td>\n",
       "      <td>0.0</td>\n",
       "      <td>0.0</td>\n",
       "      <td>0.0</td>\n",
       "      <td>0.0</td>\n",
       "      <td>0.0</td>\n",
       "      <td>0.0</td>\n",
       "      <td>0.0</td>\n",
       "      <td>0.0</td>\n",
       "    </tr>\n",
       "    <tr>\n",
       "      <th>1</th>\n",
       "      <td>1.0</td>\n",
       "      <td>1.0</td>\n",
       "      <td>0.0</td>\n",
       "      <td>0.0</td>\n",
       "      <td>0.0</td>\n",
       "      <td>0.0</td>\n",
       "      <td>0.0</td>\n",
       "      <td>0.0</td>\n",
       "      <td>0.0</td>\n",
       "      <td>0.0</td>\n",
       "      <td>0.0</td>\n",
       "      <td>0.0</td>\n",
       "      <td>0.0</td>\n",
       "      <td>0.0</td>\n",
       "      <td>0.0</td>\n",
       "    </tr>\n",
       "    <tr>\n",
       "      <th>2</th>\n",
       "      <td>1.0</td>\n",
       "      <td>0.0</td>\n",
       "      <td>1.0</td>\n",
       "      <td>0.0</td>\n",
       "      <td>0.0</td>\n",
       "      <td>0.0</td>\n",
       "      <td>0.0</td>\n",
       "      <td>0.0</td>\n",
       "      <td>0.0</td>\n",
       "      <td>0.0</td>\n",
       "      <td>0.0</td>\n",
       "      <td>0.0</td>\n",
       "      <td>0.0</td>\n",
       "      <td>0.0</td>\n",
       "      <td>0.0</td>\n",
       "    </tr>\n",
       "    <tr>\n",
       "      <th>3</th>\n",
       "      <td>0.0</td>\n",
       "      <td>0.0</td>\n",
       "      <td>0.0</td>\n",
       "      <td>1.0</td>\n",
       "      <td>0.0</td>\n",
       "      <td>0.0</td>\n",
       "      <td>0.0</td>\n",
       "      <td>0.0</td>\n",
       "      <td>0.0</td>\n",
       "      <td>0.0</td>\n",
       "      <td>0.0</td>\n",
       "      <td>0.0</td>\n",
       "      <td>0.0</td>\n",
       "      <td>0.0</td>\n",
       "      <td>0.0</td>\n",
       "    </tr>\n",
       "    <tr>\n",
       "      <th>4</th>\n",
       "      <td>0.0</td>\n",
       "      <td>0.0</td>\n",
       "      <td>0.0</td>\n",
       "      <td>0.0</td>\n",
       "      <td>1.0</td>\n",
       "      <td>0.0</td>\n",
       "      <td>0.0</td>\n",
       "      <td>0.0</td>\n",
       "      <td>0.0</td>\n",
       "      <td>0.0</td>\n",
       "      <td>0.0</td>\n",
       "      <td>0.0</td>\n",
       "      <td>0.0</td>\n",
       "      <td>0.0</td>\n",
       "      <td>0.0</td>\n",
       "    </tr>\n",
       "  </tbody>\n",
       "</table>\n",
       "</div>"
      ],
      "text/plain": [
       "   Cardiomegaly  Emphysema  Effusion  No Finding  Hernia  Infiltration  Mass  \\\n",
       "0           1.0        0.0       0.0         0.0     0.0           0.0   0.0   \n",
       "1           1.0        1.0       0.0         0.0     0.0           0.0   0.0   \n",
       "2           1.0        0.0       1.0         0.0     0.0           0.0   0.0   \n",
       "3           0.0        0.0       0.0         1.0     0.0           0.0   0.0   \n",
       "4           0.0        0.0       0.0         0.0     1.0           0.0   0.0   \n",
       "\n",
       "   Nodule  Atelectasis  Pneumothorax  Pleural_Thickening  Pneumonia  Fibrosis  \\\n",
       "0     0.0          0.0           0.0                 0.0        0.0       0.0   \n",
       "1     0.0          0.0           0.0                 0.0        0.0       0.0   \n",
       "2     0.0          0.0           0.0                 0.0        0.0       0.0   \n",
       "3     0.0          0.0           0.0                 0.0        0.0       0.0   \n",
       "4     0.0          0.0           0.0                 0.0        0.0       0.0   \n",
       "\n",
       "   Edema  Consolidation  \n",
       "0    0.0            0.0  \n",
       "1    0.0            0.0  \n",
       "2    0.0            0.0  \n",
       "3    0.0            0.0  \n",
       "4    0.0            0.0  "
      ]
     },
     "execution_count": 57,
     "metadata": {},
     "output_type": "execute_result"
    }
   ],
   "source": [
    "# https://www.kaggle.com/code/ashishmundu/nih-chest-x-rays-deep-convolutional-network\n",
    "# Generate one-hot encoding for the labels\n",
    "# Get all the labels\n",
    "unique_labels = pd.Series(itertools.chain.from_iterable(data[\"Finding Labels\"].apply(lambda x : x.split('|')))).unique()\n",
    "\n",
    "# Initialize an empty matrix \n",
    "one_hot_encodings = pd.DataFrame(0.0, index=np.arange(len(data)), columns=unique_labels)\n",
    "\n",
    "# For each row, we get the associated labels and set a 1 to the new corresponding column label \n",
    "for index, row in data.iterrows():\n",
    "    labels = row[\"Finding Labels\"].split('|')\n",
    "    for label in labels:\n",
    "        one_hot_encodings.iloc[index][label] = 1.0\n",
    "\n",
    "one_hot_encodings.head()"
   ]
  },
  {
   "cell_type": "code",
   "execution_count": 58,
   "id": "bfac20b8",
   "metadata": {},
   "outputs": [
    {
     "data": {
      "text/html": [
       "<div>\n",
       "<style scoped>\n",
       "    .dataframe tbody tr th:only-of-type {\n",
       "        vertical-align: middle;\n",
       "    }\n",
       "\n",
       "    .dataframe tbody tr th {\n",
       "        vertical-align: top;\n",
       "    }\n",
       "\n",
       "    .dataframe thead th {\n",
       "        text-align: right;\n",
       "    }\n",
       "</style>\n",
       "<table border=\"1\" class=\"dataframe\">\n",
       "  <thead>\n",
       "    <tr style=\"text-align: right;\">\n",
       "      <th></th>\n",
       "      <th>Image Index</th>\n",
       "      <th>Finding Labels</th>\n",
       "      <th>Follow-up #</th>\n",
       "      <th>Patient ID</th>\n",
       "      <th>Patient Age</th>\n",
       "      <th>Patient Gender</th>\n",
       "      <th>View Position</th>\n",
       "      <th>OriginalImageWidth</th>\n",
       "      <th>OriginalImageHeight</th>\n",
       "      <th>OriginalPixelSpacingX</th>\n",
       "      <th>...</th>\n",
       "      <th>Infiltration</th>\n",
       "      <th>Mass</th>\n",
       "      <th>Nodule</th>\n",
       "      <th>Atelectasis</th>\n",
       "      <th>Pneumothorax</th>\n",
       "      <th>Pleural_Thickening</th>\n",
       "      <th>Pneumonia</th>\n",
       "      <th>Fibrosis</th>\n",
       "      <th>Edema</th>\n",
       "      <th>Consolidation</th>\n",
       "    </tr>\n",
       "  </thead>\n",
       "  <tbody>\n",
       "    <tr>\n",
       "      <th>0</th>\n",
       "      <td>00000001_000.png</td>\n",
       "      <td>Cardiomegaly</td>\n",
       "      <td>0</td>\n",
       "      <td>1</td>\n",
       "      <td>58</td>\n",
       "      <td>M</td>\n",
       "      <td>PA</td>\n",
       "      <td>2682</td>\n",
       "      <td>2749</td>\n",
       "      <td>0.143</td>\n",
       "      <td>...</td>\n",
       "      <td>0.0</td>\n",
       "      <td>0.0</td>\n",
       "      <td>0.0</td>\n",
       "      <td>0.0</td>\n",
       "      <td>0.0</td>\n",
       "      <td>0.0</td>\n",
       "      <td>0.0</td>\n",
       "      <td>0.0</td>\n",
       "      <td>0.0</td>\n",
       "      <td>0.0</td>\n",
       "    </tr>\n",
       "    <tr>\n",
       "      <th>1</th>\n",
       "      <td>00000001_001.png</td>\n",
       "      <td>Cardiomegaly|Emphysema</td>\n",
       "      <td>1</td>\n",
       "      <td>1</td>\n",
       "      <td>58</td>\n",
       "      <td>M</td>\n",
       "      <td>PA</td>\n",
       "      <td>2894</td>\n",
       "      <td>2729</td>\n",
       "      <td>0.143</td>\n",
       "      <td>...</td>\n",
       "      <td>0.0</td>\n",
       "      <td>0.0</td>\n",
       "      <td>0.0</td>\n",
       "      <td>0.0</td>\n",
       "      <td>0.0</td>\n",
       "      <td>0.0</td>\n",
       "      <td>0.0</td>\n",
       "      <td>0.0</td>\n",
       "      <td>0.0</td>\n",
       "      <td>0.0</td>\n",
       "    </tr>\n",
       "    <tr>\n",
       "      <th>2</th>\n",
       "      <td>00000001_002.png</td>\n",
       "      <td>Cardiomegaly|Effusion</td>\n",
       "      <td>2</td>\n",
       "      <td>1</td>\n",
       "      <td>58</td>\n",
       "      <td>M</td>\n",
       "      <td>PA</td>\n",
       "      <td>2500</td>\n",
       "      <td>2048</td>\n",
       "      <td>0.168</td>\n",
       "      <td>...</td>\n",
       "      <td>0.0</td>\n",
       "      <td>0.0</td>\n",
       "      <td>0.0</td>\n",
       "      <td>0.0</td>\n",
       "      <td>0.0</td>\n",
       "      <td>0.0</td>\n",
       "      <td>0.0</td>\n",
       "      <td>0.0</td>\n",
       "      <td>0.0</td>\n",
       "      <td>0.0</td>\n",
       "    </tr>\n",
       "    <tr>\n",
       "      <th>3</th>\n",
       "      <td>00000002_000.png</td>\n",
       "      <td>No Finding</td>\n",
       "      <td>0</td>\n",
       "      <td>2</td>\n",
       "      <td>81</td>\n",
       "      <td>M</td>\n",
       "      <td>PA</td>\n",
       "      <td>2500</td>\n",
       "      <td>2048</td>\n",
       "      <td>0.171</td>\n",
       "      <td>...</td>\n",
       "      <td>0.0</td>\n",
       "      <td>0.0</td>\n",
       "      <td>0.0</td>\n",
       "      <td>0.0</td>\n",
       "      <td>0.0</td>\n",
       "      <td>0.0</td>\n",
       "      <td>0.0</td>\n",
       "      <td>0.0</td>\n",
       "      <td>0.0</td>\n",
       "      <td>0.0</td>\n",
       "    </tr>\n",
       "    <tr>\n",
       "      <th>4</th>\n",
       "      <td>00000003_000.png</td>\n",
       "      <td>Hernia</td>\n",
       "      <td>0</td>\n",
       "      <td>3</td>\n",
       "      <td>81</td>\n",
       "      <td>F</td>\n",
       "      <td>PA</td>\n",
       "      <td>2582</td>\n",
       "      <td>2991</td>\n",
       "      <td>0.143</td>\n",
       "      <td>...</td>\n",
       "      <td>0.0</td>\n",
       "      <td>0.0</td>\n",
       "      <td>0.0</td>\n",
       "      <td>0.0</td>\n",
       "      <td>0.0</td>\n",
       "      <td>0.0</td>\n",
       "      <td>0.0</td>\n",
       "      <td>0.0</td>\n",
       "      <td>0.0</td>\n",
       "      <td>0.0</td>\n",
       "    </tr>\n",
       "  </tbody>\n",
       "</table>\n",
       "<p>5 rows × 26 columns</p>\n",
       "</div>"
      ],
      "text/plain": [
       "        Image Index          Finding Labels  Follow-up #  Patient ID  \\\n",
       "0  00000001_000.png            Cardiomegaly            0           1   \n",
       "1  00000001_001.png  Cardiomegaly|Emphysema            1           1   \n",
       "2  00000001_002.png   Cardiomegaly|Effusion            2           1   \n",
       "3  00000002_000.png              No Finding            0           2   \n",
       "4  00000003_000.png                  Hernia            0           3   \n",
       "\n",
       "   Patient Age Patient Gender View Position  OriginalImageWidth  \\\n",
       "0           58              M            PA                2682   \n",
       "1           58              M            PA                2894   \n",
       "2           58              M            PA                2500   \n",
       "3           81              M            PA                2500   \n",
       "4           81              F            PA                2582   \n",
       "\n",
       "   OriginalImageHeight  OriginalPixelSpacingX  ...  Infiltration  Mass  \\\n",
       "0                 2749                  0.143  ...           0.0   0.0   \n",
       "1                 2729                  0.143  ...           0.0   0.0   \n",
       "2                 2048                  0.168  ...           0.0   0.0   \n",
       "3                 2048                  0.171  ...           0.0   0.0   \n",
       "4                 2991                  0.143  ...           0.0   0.0   \n",
       "\n",
       "   Nodule  Atelectasis  Pneumothorax  Pleural_Thickening  Pneumonia  Fibrosis  \\\n",
       "0     0.0          0.0           0.0                 0.0        0.0       0.0   \n",
       "1     0.0          0.0           0.0                 0.0        0.0       0.0   \n",
       "2     0.0          0.0           0.0                 0.0        0.0       0.0   \n",
       "3     0.0          0.0           0.0                 0.0        0.0       0.0   \n",
       "4     0.0          0.0           0.0                 0.0        0.0       0.0   \n",
       "\n",
       "   Edema  Consolidation  \n",
       "0    0.0            0.0  \n",
       "1    0.0            0.0  \n",
       "2    0.0            0.0  \n",
       "3    0.0            0.0  \n",
       "4    0.0            0.0  \n",
       "\n",
       "[5 rows x 26 columns]"
      ]
     },
     "execution_count": 58,
     "metadata": {},
     "output_type": "execute_result"
    }
   ],
   "source": [
    "data = pd.concat([data, one_hot_encodings], axis=1)\n",
    "data.head()"
   ]
  },
  {
   "cell_type": "markdown",
   "id": "d9e0cd01-bb8a-4a32-896b-7ddcc696812e",
   "metadata": {},
   "source": [
    "### Isolate \"Cardiomegaly\" Data"
   ]
  },
  {
   "cell_type": "code",
   "execution_count": 59,
   "id": "eb217fff-1e91-4a09-9b7b-727f653077c8",
   "metadata": {},
   "outputs": [
    {
     "name": "stdout",
     "output_type": "stream",
     "text": [
      "Instances of cardiomegaly: 2776\n",
      "Number of samples to take from each other category: 198\n"
     ]
    }
   ],
   "source": [
    "# Count cardiomegaly instances\n",
    "cardiomegaly_count = data[data[\"Cardiomegaly\"] == 1][\"Cardiomegaly\"].count()\n",
    "sample_size = int(cardiomegaly_count/(len(unique_labels)-1))\n",
    "print(f'Instances of cardiomegaly: {cardiomegaly_count}')\n",
    "print(f'Number of samples to take from each other category: {sample_size}')"
   ]
  },
  {
   "cell_type": "markdown",
   "id": "acae9195-2b05-4d75-9f5e-b8d1dc0a3534",
   "metadata": {},
   "source": [
    "### Sample Different Categories of \"No Cardiomegaly\" Data"
   ]
  },
  {
   "cell_type": "code",
   "execution_count": 60,
   "id": "43a98d14-b712-4f2a-af5a-6279424df68f",
   "metadata": {},
   "outputs": [
    {
     "data": {
      "text/html": [
       "<div>\n",
       "<style scoped>\n",
       "    .dataframe tbody tr th:only-of-type {\n",
       "        vertical-align: middle;\n",
       "    }\n",
       "\n",
       "    .dataframe tbody tr th {\n",
       "        vertical-align: top;\n",
       "    }\n",
       "\n",
       "    .dataframe thead th {\n",
       "        text-align: right;\n",
       "    }\n",
       "</style>\n",
       "<table border=\"1\" class=\"dataframe\">\n",
       "  <thead>\n",
       "    <tr style=\"text-align: right;\">\n",
       "      <th></th>\n",
       "      <th>Image Index</th>\n",
       "      <th>Finding Labels</th>\n",
       "      <th>Follow-up #</th>\n",
       "      <th>Patient ID</th>\n",
       "      <th>Patient Age</th>\n",
       "      <th>Patient Gender</th>\n",
       "      <th>View Position</th>\n",
       "      <th>OriginalImageWidth</th>\n",
       "      <th>OriginalImageHeight</th>\n",
       "      <th>OriginalPixelSpacingX</th>\n",
       "      <th>...</th>\n",
       "      <th>Infiltration</th>\n",
       "      <th>Mass</th>\n",
       "      <th>Nodule</th>\n",
       "      <th>Atelectasis</th>\n",
       "      <th>Pneumothorax</th>\n",
       "      <th>Pleural_Thickening</th>\n",
       "      <th>Pneumonia</th>\n",
       "      <th>Fibrosis</th>\n",
       "      <th>Edema</th>\n",
       "      <th>Consolidation</th>\n",
       "    </tr>\n",
       "  </thead>\n",
       "  <tbody>\n",
       "    <tr>\n",
       "      <th>58105</th>\n",
       "      <td>00014379_004.png</td>\n",
       "      <td>Emphysema|Pleural_Thickening</td>\n",
       "      <td>4</td>\n",
       "      <td>14379</td>\n",
       "      <td>62</td>\n",
       "      <td>M</td>\n",
       "      <td>AP</td>\n",
       "      <td>3056</td>\n",
       "      <td>2544</td>\n",
       "      <td>0.139</td>\n",
       "      <td>...</td>\n",
       "      <td>0.0</td>\n",
       "      <td>0.0</td>\n",
       "      <td>0.0</td>\n",
       "      <td>0.0</td>\n",
       "      <td>0.0</td>\n",
       "      <td>1.0</td>\n",
       "      <td>0.0</td>\n",
       "      <td>0.0</td>\n",
       "      <td>0.0</td>\n",
       "      <td>0.0</td>\n",
       "    </tr>\n",
       "    <tr>\n",
       "      <th>105391</th>\n",
       "      <td>00028317_007.png</td>\n",
       "      <td>Emphysema|Pneumothorax</td>\n",
       "      <td>7</td>\n",
       "      <td>28317</td>\n",
       "      <td>53</td>\n",
       "      <td>M</td>\n",
       "      <td>AP</td>\n",
       "      <td>3056</td>\n",
       "      <td>2544</td>\n",
       "      <td>0.139</td>\n",
       "      <td>...</td>\n",
       "      <td>0.0</td>\n",
       "      <td>0.0</td>\n",
       "      <td>0.0</td>\n",
       "      <td>0.0</td>\n",
       "      <td>1.0</td>\n",
       "      <td>0.0</td>\n",
       "      <td>0.0</td>\n",
       "      <td>0.0</td>\n",
       "      <td>0.0</td>\n",
       "      <td>0.0</td>\n",
       "    </tr>\n",
       "    <tr>\n",
       "      <th>32338</th>\n",
       "      <td>00008468_012.png</td>\n",
       "      <td>Emphysema</td>\n",
       "      <td>12</td>\n",
       "      <td>8468</td>\n",
       "      <td>10</td>\n",
       "      <td>F</td>\n",
       "      <td>AP</td>\n",
       "      <td>2048</td>\n",
       "      <td>2500</td>\n",
       "      <td>0.168</td>\n",
       "      <td>...</td>\n",
       "      <td>0.0</td>\n",
       "      <td>0.0</td>\n",
       "      <td>0.0</td>\n",
       "      <td>0.0</td>\n",
       "      <td>0.0</td>\n",
       "      <td>0.0</td>\n",
       "      <td>0.0</td>\n",
       "      <td>0.0</td>\n",
       "      <td>0.0</td>\n",
       "      <td>0.0</td>\n",
       "    </tr>\n",
       "    <tr>\n",
       "      <th>58106</th>\n",
       "      <td>00014379_005.png</td>\n",
       "      <td>Emphysema|Infiltration|Pleural_Thickening</td>\n",
       "      <td>5</td>\n",
       "      <td>14379</td>\n",
       "      <td>62</td>\n",
       "      <td>M</td>\n",
       "      <td>AP</td>\n",
       "      <td>3056</td>\n",
       "      <td>2544</td>\n",
       "      <td>0.139</td>\n",
       "      <td>...</td>\n",
       "      <td>1.0</td>\n",
       "      <td>0.0</td>\n",
       "      <td>0.0</td>\n",
       "      <td>0.0</td>\n",
       "      <td>0.0</td>\n",
       "      <td>1.0</td>\n",
       "      <td>0.0</td>\n",
       "      <td>0.0</td>\n",
       "      <td>0.0</td>\n",
       "      <td>0.0</td>\n",
       "    </tr>\n",
       "    <tr>\n",
       "      <th>85663</th>\n",
       "      <td>00021127_005.png</td>\n",
       "      <td>Emphysema</td>\n",
       "      <td>5</td>\n",
       "      <td>21127</td>\n",
       "      <td>66</td>\n",
       "      <td>M</td>\n",
       "      <td>AP</td>\n",
       "      <td>3056</td>\n",
       "      <td>2544</td>\n",
       "      <td>0.139</td>\n",
       "      <td>...</td>\n",
       "      <td>0.0</td>\n",
       "      <td>0.0</td>\n",
       "      <td>0.0</td>\n",
       "      <td>0.0</td>\n",
       "      <td>0.0</td>\n",
       "      <td>0.0</td>\n",
       "      <td>0.0</td>\n",
       "      <td>0.0</td>\n",
       "      <td>0.0</td>\n",
       "      <td>0.0</td>\n",
       "    </tr>\n",
       "  </tbody>\n",
       "</table>\n",
       "<p>5 rows × 26 columns</p>\n",
       "</div>"
      ],
      "text/plain": [
       "             Image Index                             Finding Labels  \\\n",
       "58105   00014379_004.png               Emphysema|Pleural_Thickening   \n",
       "105391  00028317_007.png                     Emphysema|Pneumothorax   \n",
       "32338   00008468_012.png                                  Emphysema   \n",
       "58106   00014379_005.png  Emphysema|Infiltration|Pleural_Thickening   \n",
       "85663   00021127_005.png                                  Emphysema   \n",
       "\n",
       "        Follow-up #  Patient ID  Patient Age Patient Gender View Position  \\\n",
       "58105             4       14379           62              M            AP   \n",
       "105391            7       28317           53              M            AP   \n",
       "32338            12        8468           10              F            AP   \n",
       "58106             5       14379           62              M            AP   \n",
       "85663             5       21127           66              M            AP   \n",
       "\n",
       "        OriginalImageWidth  OriginalImageHeight  OriginalPixelSpacingX  ...  \\\n",
       "58105                 3056                 2544                  0.139  ...   \n",
       "105391                3056                 2544                  0.139  ...   \n",
       "32338                 2048                 2500                  0.168  ...   \n",
       "58106                 3056                 2544                  0.139  ...   \n",
       "85663                 3056                 2544                  0.139  ...   \n",
       "\n",
       "        Infiltration  Mass  Nodule  Atelectasis  Pneumothorax  \\\n",
       "58105            0.0   0.0     0.0          0.0           0.0   \n",
       "105391           0.0   0.0     0.0          0.0           1.0   \n",
       "32338            0.0   0.0     0.0          0.0           0.0   \n",
       "58106            1.0   0.0     0.0          0.0           0.0   \n",
       "85663            0.0   0.0     0.0          0.0           0.0   \n",
       "\n",
       "        Pleural_Thickening  Pneumonia  Fibrosis  Edema  Consolidation  \n",
       "58105                  1.0        0.0       0.0    0.0            0.0  \n",
       "105391                 0.0        0.0       0.0    0.0            0.0  \n",
       "32338                  0.0        0.0       0.0    0.0            0.0  \n",
       "58106                  1.0        0.0       0.0    0.0            0.0  \n",
       "85663                  0.0        0.0       0.0    0.0            0.0  \n",
       "\n",
       "[5 rows x 26 columns]"
      ]
     },
     "execution_count": 60,
     "metadata": {},
     "output_type": "execute_result"
    }
   ],
   "source": [
    "# Generate samples of appropriate size from each other category\n",
    "no_cardiomegaly = data[data[\"Cardiomegaly\"] == 0]\n",
    "\n",
    "emphysema_sample = no_cardiomegaly[no_cardiomegaly[\"Emphysema\"] == 1].sample(sample_size, random_state=101)\n",
    "effusion_sample = no_cardiomegaly[no_cardiomegaly[\"Effusion\"] == 1].sample(sample_size, random_state=101)\n",
    "no_finding_sample = no_cardiomegaly[no_cardiomegaly[\"No Finding\"] == 1].sample(sample_size, random_state=101)\n",
    "hernia_sample = no_cardiomegaly[no_cardiomegaly[\"Hernia\"] == 1].sample(sample_size, random_state=101)\n",
    "infiltration_sample = no_cardiomegaly[no_cardiomegaly[\"Infiltration\"] == 1].sample(sample_size, random_state=101)\n",
    "mass_sample = no_cardiomegaly[no_cardiomegaly[\"Mass\"] == 1].sample(sample_size, random_state=101)\n",
    "nodule_sample = no_cardiomegaly[no_cardiomegaly[\"Nodule\"] == 1].sample(sample_size, random_state=101)\n",
    "atelectasis_sample = no_cardiomegaly[no_cardiomegaly[\"Atelectasis\"] == 1].sample(sample_size, random_state=101)\n",
    "pneumothorax_sample = no_cardiomegaly[no_cardiomegaly[\"Pneumothorax\"] == 1].sample(sample_size, random_state=101)\n",
    "pleural_thickening_sample = no_cardiomegaly[no_cardiomegaly[\"Pleural_Thickening\"] == 1].sample(sample_size, random_state=101)\n",
    "pneumonia_sample = no_cardiomegaly[no_cardiomegaly[\"Pneumonia\"] == 1].sample(sample_size, random_state=101)\n",
    "fibrosis_sample = no_cardiomegaly[no_cardiomegaly[\"Fibrosis\"] == 1].sample(sample_size, random_state=101)\n",
    "edema_sample = no_cardiomegaly[no_cardiomegaly[\"Edema\"] == 1].sample(sample_size, random_state=101)\n",
    "consolidation_sample = no_cardiomegaly[no_cardiomegaly[\"Consolidation\"] == 1].sample(sample_size, random_state=101)\n",
    "\n",
    "# Concatenate all samples together\n",
    "no_cardiomegaly_sample = pd.concat([emphysema_sample, effusion_sample, no_finding_sample, hernia_sample, \n",
    "                   infiltration_sample, mass_sample, nodule_sample, atelectasis_sample, \n",
    "                   pneumothorax_sample, pleural_thickening_sample, pneumonia_sample, \n",
    "                   fibrosis_sample, edema_sample, consolidation_sample])\n",
    "no_cardiomegaly_sample.head()"
   ]
  },
  {
   "cell_type": "code",
   "execution_count": 61,
   "id": "d17e02b4-3980-45ad-830e-7c5fed7b1895",
   "metadata": {},
   "outputs": [],
   "source": [
    "# Manage data leakage between \"no cardiomegaly\" instances due to multilabel data\n",
    "# (e.g. a picture with \"Atelectasis|Hernia|Infiltration|Mass|Nodule|Pneumothorax\" gets sampled for both Atalectasis and Pneumothorax)\n",
    "emphysema_sample_set = set(emphysema_sample[\"Patient ID\"].values)\n",
    "effusion_sample_set = set(effusion_sample[\"Patient ID\"].values)\n",
    "no_finding_sample_set = set(no_finding_sample[\"Patient ID\"].values)\n",
    "hernia_sample_set = set(hernia_sample[\"Patient ID\"].values)\n",
    "infiltration_sample_set = set(infiltration_sample[\"Patient ID\"].values)\n",
    "mass_sample_set = set(mass_sample[\"Patient ID\"].values)\n",
    "nodule_sample_set = set(nodule_sample[\"Patient ID\"].values)\n",
    "atelectasis_sample_set = set(atelectasis_sample[\"Patient ID\"].values)\n",
    "pneumothorax_sample_set = set(pneumothorax_sample[\"Patient ID\"].values)\n",
    "pleural_thickening_sample_set = set(pleural_thickening_sample[\"Patient ID\"].values)\n",
    "pneumonia_sample_set = set(pneumonia_sample[\"Patient ID\"].values)\n",
    "fibrosis_sample_set = set(fibrosis_sample[\"Patient ID\"].values)\n",
    "edema_sample_set = set(edema_sample[\"Patient ID\"].values)\n",
    "consolidation_sample_set = set(consolidation_sample[\"Patient ID\"].values)"
   ]
  },
  {
   "cell_type": "code",
   "execution_count": 62,
   "id": "fa8ca8d1-dd3f-4d6e-9094-beaaf83f1867",
   "metadata": {},
   "outputs": [
    {
     "name": "stdout",
     "output_type": "stream",
     "text": [
      "Number of patient IDs present in multiple \"no cardiomegaly\" samples: 361\n"
     ]
    }
   ],
   "source": [
    "# https://stackoverflow.com/questions/27369373/pairwise-set-intersection-in-python\n",
    "sample_sets = [emphysema_sample_set, effusion_sample_set, no_finding_sample_set, hernia_sample_set, \n",
    "                   infiltration_sample_set, mass_sample_set, nodule_sample_set, atelectasis_sample_set, \n",
    "                   pneumothorax_sample_set, pleural_thickening_sample_set, pneumonia_sample_set, \n",
    "                   fibrosis_sample_set, edema_sample_set, consolidation_sample_set]\n",
    "\n",
    "set_combinations = itertools.combinations(range(len(sample_sets)), 2)\n",
    "\n",
    "set_intersection_fn = lambda a, b: sample_sets[a].intersection(sample_sets[b])\n",
    "leakage_patient_sets = [set_intersection_fn(*combo) for combo in set_combinations]\n",
    "leakage_patient = set.union(*leakage_patient_sets)\n",
    "print(f'Number of patient IDs present in multiple \"no cardiomegaly\" samples: {len(leakage_patient)}')"
   ]
  },
  {
   "cell_type": "code",
   "execution_count": 63,
   "id": "2c27fb08-4cbf-4642-87c7-fd45d46decfa",
   "metadata": {
    "scrolled": true
   },
   "outputs": [
    {
     "name": "stdout",
     "output_type": "stream",
     "text": [
      "Size of \"No Cardiomegaly\" Sample before data leakage removal: 2772\n",
      "Size of \"No Cardiomegaly\" Sample after data leakage removal: 1791\n"
     ]
    }
   ],
   "source": [
    "# Remove data leakage from \"no cardiomegaly\" sample\n",
    "print(f'Size of \"No Cardiomegaly\" Sample before data leakage removal: {len(no_cardiomegaly_sample)}')\n",
    "no_cardiomegaly_sample = no_cardiomegaly_sample[~no_cardiomegaly_sample[\"Patient ID\"].isin(leakage_patient)]\n",
    "print(f'Size of \"No Cardiomegaly\" Sample after data leakage removal: {len(no_cardiomegaly_sample)}')"
   ]
  },
  {
   "cell_type": "code",
   "execution_count": 64,
   "id": "89f32f79-1aed-4e5e-973a-ef169ab12525",
   "metadata": {},
   "outputs": [
    {
     "name": "stdout",
     "output_type": "stream",
     "text": [
      "Size of \"Cardiomegaly\" Sample after data leakage removal: 1791\n"
     ]
    }
   ],
   "source": [
    "cardiomegaly_sample = data[data[\"Cardiomegaly\"] == 1].sample(len(no_cardiomegaly_sample))\n",
    "print(f'Size of \"Cardiomegaly\" Sample after data leakage removal: {len(cardiomegaly_sample)}')"
   ]
  },
  {
   "cell_type": "code",
   "execution_count": 65,
   "id": "9b75acb6-e67e-4077-95e6-c4c30cb03d4a",
   "metadata": {},
   "outputs": [],
   "source": [
    "# TODO: Visualize the proportion of each \"No Cardiomegaly\" category in the dataset at this point?"
   ]
  },
  {
   "cell_type": "markdown",
   "id": "4c28c4de-646c-4f3c-9a06-22cca89c1985",
   "metadata": {},
   "source": [
    "### Build New Balanced Dataset from Samples of \"Cardiomegaly\" and \"No Cardiomegaly\" Data"
   ]
  },
  {
   "cell_type": "code",
   "execution_count": 66,
   "id": "64bce801-399c-4dbe-9a65-7a310e1007e6",
   "metadata": {},
   "outputs": [
    {
     "name": "stdout",
     "output_type": "stream",
     "text": [
      "Final Size of Sampled Cardiomegaly Dataset: 3582\n"
     ]
    },
    {
     "data": {
      "text/html": [
       "<div>\n",
       "<style scoped>\n",
       "    .dataframe tbody tr th:only-of-type {\n",
       "        vertical-align: middle;\n",
       "    }\n",
       "\n",
       "    .dataframe tbody tr th {\n",
       "        vertical-align: top;\n",
       "    }\n",
       "\n",
       "    .dataframe thead th {\n",
       "        text-align: right;\n",
       "    }\n",
       "</style>\n",
       "<table border=\"1\" class=\"dataframe\">\n",
       "  <thead>\n",
       "    <tr style=\"text-align: right;\">\n",
       "      <th></th>\n",
       "      <th>Image Index</th>\n",
       "      <th>Finding Labels</th>\n",
       "      <th>Follow-up #</th>\n",
       "      <th>Patient ID</th>\n",
       "      <th>Patient Age</th>\n",
       "      <th>Patient Gender</th>\n",
       "      <th>View Position</th>\n",
       "      <th>OriginalImageWidth</th>\n",
       "      <th>OriginalImageHeight</th>\n",
       "      <th>OriginalPixelSpacingX</th>\n",
       "      <th>...</th>\n",
       "      <th>Infiltration</th>\n",
       "      <th>Mass</th>\n",
       "      <th>Nodule</th>\n",
       "      <th>Atelectasis</th>\n",
       "      <th>Pneumothorax</th>\n",
       "      <th>Pleural_Thickening</th>\n",
       "      <th>Pneumonia</th>\n",
       "      <th>Fibrosis</th>\n",
       "      <th>Edema</th>\n",
       "      <th>Consolidation</th>\n",
       "    </tr>\n",
       "  </thead>\n",
       "  <tbody>\n",
       "    <tr>\n",
       "      <th>19067</th>\n",
       "      <td>00005066_063.png</td>\n",
       "      <td>Cardiomegaly</td>\n",
       "      <td>63</td>\n",
       "      <td>5066</td>\n",
       "      <td>54</td>\n",
       "      <td>M</td>\n",
       "      <td>PA</td>\n",
       "      <td>2992</td>\n",
       "      <td>2991</td>\n",
       "      <td>0.143</td>\n",
       "      <td>...</td>\n",
       "      <td>0.0</td>\n",
       "      <td>0.0</td>\n",
       "      <td>0.0</td>\n",
       "      <td>0.0</td>\n",
       "      <td>0.0</td>\n",
       "      <td>0.0</td>\n",
       "      <td>0.0</td>\n",
       "      <td>0.0</td>\n",
       "      <td>0.0</td>\n",
       "      <td>0.0</td>\n",
       "    </tr>\n",
       "    <tr>\n",
       "      <th>105498</th>\n",
       "      <td>00028357_024.png</td>\n",
       "      <td>Cardiomegaly|Infiltration</td>\n",
       "      <td>24</td>\n",
       "      <td>28357</td>\n",
       "      <td>52</td>\n",
       "      <td>M</td>\n",
       "      <td>AP</td>\n",
       "      <td>3056</td>\n",
       "      <td>2544</td>\n",
       "      <td>0.139</td>\n",
       "      <td>...</td>\n",
       "      <td>1.0</td>\n",
       "      <td>0.0</td>\n",
       "      <td>0.0</td>\n",
       "      <td>0.0</td>\n",
       "      <td>0.0</td>\n",
       "      <td>0.0</td>\n",
       "      <td>0.0</td>\n",
       "      <td>0.0</td>\n",
       "      <td>0.0</td>\n",
       "      <td>0.0</td>\n",
       "    </tr>\n",
       "    <tr>\n",
       "      <th>100452</th>\n",
       "      <td>00026634_000.png</td>\n",
       "      <td>Cardiomegaly</td>\n",
       "      <td>0</td>\n",
       "      <td>26634</td>\n",
       "      <td>5</td>\n",
       "      <td>M</td>\n",
       "      <td>PA</td>\n",
       "      <td>2544</td>\n",
       "      <td>3056</td>\n",
       "      <td>0.139</td>\n",
       "      <td>...</td>\n",
       "      <td>0.0</td>\n",
       "      <td>0.0</td>\n",
       "      <td>0.0</td>\n",
       "      <td>0.0</td>\n",
       "      <td>0.0</td>\n",
       "      <td>0.0</td>\n",
       "      <td>0.0</td>\n",
       "      <td>0.0</td>\n",
       "      <td>0.0</td>\n",
       "      <td>0.0</td>\n",
       "    </tr>\n",
       "    <tr>\n",
       "      <th>69009</th>\n",
       "      <td>00017030_000.png</td>\n",
       "      <td>Cardiomegaly|Fibrosis</td>\n",
       "      <td>0</td>\n",
       "      <td>17030</td>\n",
       "      <td>42</td>\n",
       "      <td>M</td>\n",
       "      <td>PA</td>\n",
       "      <td>2992</td>\n",
       "      <td>2991</td>\n",
       "      <td>0.143</td>\n",
       "      <td>...</td>\n",
       "      <td>0.0</td>\n",
       "      <td>0.0</td>\n",
       "      <td>0.0</td>\n",
       "      <td>0.0</td>\n",
       "      <td>0.0</td>\n",
       "      <td>0.0</td>\n",
       "      <td>0.0</td>\n",
       "      <td>1.0</td>\n",
       "      <td>0.0</td>\n",
       "      <td>0.0</td>\n",
       "    </tr>\n",
       "    <tr>\n",
       "      <th>110819</th>\n",
       "      <td>00030206_014.png</td>\n",
       "      <td>Cardiomegaly|Effusion</td>\n",
       "      <td>14</td>\n",
       "      <td>30206</td>\n",
       "      <td>46</td>\n",
       "      <td>F</td>\n",
       "      <td>AP</td>\n",
       "      <td>3056</td>\n",
       "      <td>2544</td>\n",
       "      <td>0.139</td>\n",
       "      <td>...</td>\n",
       "      <td>0.0</td>\n",
       "      <td>0.0</td>\n",
       "      <td>0.0</td>\n",
       "      <td>0.0</td>\n",
       "      <td>0.0</td>\n",
       "      <td>0.0</td>\n",
       "      <td>0.0</td>\n",
       "      <td>0.0</td>\n",
       "      <td>0.0</td>\n",
       "      <td>0.0</td>\n",
       "    </tr>\n",
       "  </tbody>\n",
       "</table>\n",
       "<p>5 rows × 26 columns</p>\n",
       "</div>"
      ],
      "text/plain": [
       "             Image Index             Finding Labels  Follow-up #  Patient ID  \\\n",
       "19067   00005066_063.png               Cardiomegaly           63        5066   \n",
       "105498  00028357_024.png  Cardiomegaly|Infiltration           24       28357   \n",
       "100452  00026634_000.png               Cardiomegaly            0       26634   \n",
       "69009   00017030_000.png      Cardiomegaly|Fibrosis            0       17030   \n",
       "110819  00030206_014.png      Cardiomegaly|Effusion           14       30206   \n",
       "\n",
       "        Patient Age Patient Gender View Position  OriginalImageWidth  \\\n",
       "19067            54              M            PA                2992   \n",
       "105498           52              M            AP                3056   \n",
       "100452            5              M            PA                2544   \n",
       "69009            42              M            PA                2992   \n",
       "110819           46              F            AP                3056   \n",
       "\n",
       "        OriginalImageHeight  OriginalPixelSpacingX  ...  Infiltration  Mass  \\\n",
       "19067                  2991                  0.143  ...           0.0   0.0   \n",
       "105498                 2544                  0.139  ...           1.0   0.0   \n",
       "100452                 3056                  0.139  ...           0.0   0.0   \n",
       "69009                  2991                  0.143  ...           0.0   0.0   \n",
       "110819                 2544                  0.139  ...           0.0   0.0   \n",
       "\n",
       "        Nodule  Atelectasis  Pneumothorax  Pleural_Thickening  Pneumonia  \\\n",
       "19067      0.0          0.0           0.0                 0.0        0.0   \n",
       "105498     0.0          0.0           0.0                 0.0        0.0   \n",
       "100452     0.0          0.0           0.0                 0.0        0.0   \n",
       "69009      0.0          0.0           0.0                 0.0        0.0   \n",
       "110819     0.0          0.0           0.0                 0.0        0.0   \n",
       "\n",
       "        Fibrosis  Edema  Consolidation  \n",
       "19067        0.0    0.0            0.0  \n",
       "105498       0.0    0.0            0.0  \n",
       "100452       0.0    0.0            0.0  \n",
       "69009        1.0    0.0            0.0  \n",
       "110819       0.0    0.0            0.0  \n",
       "\n",
       "[5 rows x 26 columns]"
      ]
     },
     "execution_count": 66,
     "metadata": {},
     "output_type": "execute_result"
    }
   ],
   "source": [
    "# Combine cardiomegaly positive and cardiomegaly negative data\n",
    "cardiomegaly_data = pd.concat([cardiomegaly_sample, no_cardiomegaly_sample])\n",
    "print(f'Final Size of Sampled Cardiomegaly Dataset: {len(cardiomegaly_data)}')\n",
    "cardiomegaly_data.head()"
   ]
  },
  {
   "cell_type": "code",
   "execution_count": 67,
   "id": "e3d2474b-1cc6-401c-a698-d7d3b889813d",
   "metadata": {},
   "outputs": [
    {
     "data": {
      "text/html": [
       "<div>\n",
       "<style scoped>\n",
       "    .dataframe tbody tr th:only-of-type {\n",
       "        vertical-align: middle;\n",
       "    }\n",
       "\n",
       "    .dataframe tbody tr th {\n",
       "        vertical-align: top;\n",
       "    }\n",
       "\n",
       "    .dataframe thead th {\n",
       "        text-align: right;\n",
       "    }\n",
       "</style>\n",
       "<table border=\"1\" class=\"dataframe\">\n",
       "  <thead>\n",
       "    <tr style=\"text-align: right;\">\n",
       "      <th></th>\n",
       "      <th>Image Index</th>\n",
       "      <th>Follow-up #</th>\n",
       "      <th>Patient ID</th>\n",
       "      <th>Patient Age</th>\n",
       "      <th>Patient Gender</th>\n",
       "      <th>View Position</th>\n",
       "      <th>OriginalImageWidth</th>\n",
       "      <th>OriginalImageHeight</th>\n",
       "      <th>OriginalPixelSpacingX</th>\n",
       "      <th>OriginalPixelSpacingY</th>\n",
       "      <th>Cardiomegaly</th>\n",
       "    </tr>\n",
       "  </thead>\n",
       "  <tbody>\n",
       "    <tr>\n",
       "      <th>19067</th>\n",
       "      <td>00005066_063.png</td>\n",
       "      <td>63</td>\n",
       "      <td>5066</td>\n",
       "      <td>54</td>\n",
       "      <td>M</td>\n",
       "      <td>PA</td>\n",
       "      <td>2992</td>\n",
       "      <td>2991</td>\n",
       "      <td>0.143</td>\n",
       "      <td>0.143</td>\n",
       "      <td>1.0</td>\n",
       "    </tr>\n",
       "    <tr>\n",
       "      <th>105498</th>\n",
       "      <td>00028357_024.png</td>\n",
       "      <td>24</td>\n",
       "      <td>28357</td>\n",
       "      <td>52</td>\n",
       "      <td>M</td>\n",
       "      <td>AP</td>\n",
       "      <td>3056</td>\n",
       "      <td>2544</td>\n",
       "      <td>0.139</td>\n",
       "      <td>0.139</td>\n",
       "      <td>1.0</td>\n",
       "    </tr>\n",
       "    <tr>\n",
       "      <th>100452</th>\n",
       "      <td>00026634_000.png</td>\n",
       "      <td>0</td>\n",
       "      <td>26634</td>\n",
       "      <td>5</td>\n",
       "      <td>M</td>\n",
       "      <td>PA</td>\n",
       "      <td>2544</td>\n",
       "      <td>3056</td>\n",
       "      <td>0.139</td>\n",
       "      <td>0.139</td>\n",
       "      <td>1.0</td>\n",
       "    </tr>\n",
       "    <tr>\n",
       "      <th>69009</th>\n",
       "      <td>00017030_000.png</td>\n",
       "      <td>0</td>\n",
       "      <td>17030</td>\n",
       "      <td>42</td>\n",
       "      <td>M</td>\n",
       "      <td>PA</td>\n",
       "      <td>2992</td>\n",
       "      <td>2991</td>\n",
       "      <td>0.143</td>\n",
       "      <td>0.143</td>\n",
       "      <td>1.0</td>\n",
       "    </tr>\n",
       "    <tr>\n",
       "      <th>110819</th>\n",
       "      <td>00030206_014.png</td>\n",
       "      <td>14</td>\n",
       "      <td>30206</td>\n",
       "      <td>46</td>\n",
       "      <td>F</td>\n",
       "      <td>AP</td>\n",
       "      <td>3056</td>\n",
       "      <td>2544</td>\n",
       "      <td>0.139</td>\n",
       "      <td>0.139</td>\n",
       "      <td>1.0</td>\n",
       "    </tr>\n",
       "  </tbody>\n",
       "</table>\n",
       "</div>"
      ],
      "text/plain": [
       "             Image Index  Follow-up #  Patient ID  Patient Age Patient Gender  \\\n",
       "19067   00005066_063.png           63        5066           54              M   \n",
       "105498  00028357_024.png           24       28357           52              M   \n",
       "100452  00026634_000.png            0       26634            5              M   \n",
       "69009   00017030_000.png            0       17030           42              M   \n",
       "110819  00030206_014.png           14       30206           46              F   \n",
       "\n",
       "       View Position  OriginalImageWidth  OriginalImageHeight  \\\n",
       "19067             PA                2992                 2991   \n",
       "105498            AP                3056                 2544   \n",
       "100452            PA                2544                 3056   \n",
       "69009             PA                2992                 2991   \n",
       "110819            AP                3056                 2544   \n",
       "\n",
       "        OriginalPixelSpacingX  OriginalPixelSpacingY  Cardiomegaly  \n",
       "19067                   0.143                  0.143           1.0  \n",
       "105498                  0.139                  0.139           1.0  \n",
       "100452                  0.139                  0.139           1.0  \n",
       "69009                   0.143                  0.143           1.0  \n",
       "110819                  0.139                  0.139           1.0  "
      ]
     },
     "execution_count": 67,
     "metadata": {},
     "output_type": "execute_result"
    }
   ],
   "source": [
    "# Clean up and remove columns that are no longer relevant\n",
    "cardiomegaly_data\n",
    "cardiomegaly_data = cardiomegaly_data.drop(['Finding Labels','Emphysema', 'Effusion', 'No Finding', 'Hernia',\n",
    "       'Infiltration', 'Mass', 'Nodule', 'Atelectasis', 'Pneumothorax',\n",
    "       'Pleural_Thickening', 'Pneumonia', 'Fibrosis', 'Edema',\n",
    "       'Consolidation'], axis=1)\n",
    "cardiomegaly_data.head()"
   ]
  },
  {
   "cell_type": "code",
   "execution_count": 68,
   "id": "51bc48ed-7747-4dd0-86a1-91a5303a0350",
   "metadata": {},
   "outputs": [],
   "source": [
    "# TODO: Visualize some example images?"
   ]
  },
  {
   "cell_type": "markdown",
   "id": "0afcfffc-62f3-4f5e-8e41-c60710a8b631",
   "metadata": {},
   "source": [
    "## Test-Train Split"
   ]
  },
  {
   "cell_type": "code",
   "execution_count": 69,
   "id": "bf093ea3",
   "metadata": {},
   "outputs": [
    {
     "name": "stdout",
     "output_type": "stream",
     "text": [
      "Size of training set: 2507\n",
      "Size of testing set: 1075\n"
     ]
    }
   ],
   "source": [
    "# Generate train and test sets\n",
    "cardiomegaly_data_train, cardiomegaly_data_test = train_test_split(cardiomegaly_data, test_size=0.3, random_state=101)\n",
    "print(f\"Size of training set: {len(cardiomegaly_data_train)}\\nSize of testing set: {len(cardiomegaly_data_test)}\")"
   ]
  },
  {
   "cell_type": "code",
   "execution_count": 70,
   "id": "43a9a039",
   "metadata": {},
   "outputs": [
    {
     "name": "stdout",
     "output_type": "stream",
     "text": [
      "Instances with patient ID in both training and test data: 230\n"
     ]
    }
   ],
   "source": [
    "# Check for patient ID overlap (i.e. data leakage) between train and test sets\n",
    "patient_train = set(cardiomegaly_data_train[\"Patient ID\"].values)\n",
    "patient_test  = set(cardiomegaly_data_test[\"Patient ID\"].values)\n",
    "\n",
    "leakage_patient = patient_train.intersection(patient_test)\n",
    "print(f'Instances with patient ID in both training and test data: {len(leakage_patient)}')"
   ]
  },
  {
   "cell_type": "code",
   "execution_count": 71,
   "id": "aecd631a",
   "metadata": {},
   "outputs": [
    {
     "name": "stdout",
     "output_type": "stream",
     "text": [
      "Training Set\n",
      "Proportion of Data Leakage: 0.7702433187076186\n",
      "Instances without Leakage Removal: 2507\n",
      "Instances with Leakage Removal: 1931\n",
      "\n",
      "Test\n",
      "Proportion of Data Leakage: 0.6651162790697674\n",
      "Instances without Leakage Removal: 1075\n",
      "Instances with Leakage Removal: 715\n"
     ]
    }
   ],
   "source": [
    "# Determine extent of data leakage\n",
    "train_without_leakage = cardiomegaly_data_train[~cardiomegaly_data_train[\"Patient ID\"].isin(leakage_patient)]\n",
    "\n",
    "print(\"Training Set\")\n",
    "print(f\"Proportion of Data Leakage: {len(train_without_leakage) / len(cardiomegaly_data_train)}\")\n",
    "print(f\"Instances without Leakage Removal: {len(cardiomegaly_data_train)}\")\n",
    "print(f\"Instances with Leakage Removal: {len(train_without_leakage)}\")\n",
    "\n",
    "print()\n",
    "print(\"Test\")\n",
    "test_without_leakage = cardiomegaly_data_test[~cardiomegaly_data_test[\"Patient ID\"].isin(leakage_patient)]\n",
    "print(f\"Proportion of Data Leakage: {len(test_without_leakage) / len(cardiomegaly_data_test)}\")\n",
    "print(f\"Instances without Leakage Removal: {len(cardiomegaly_data_test)}\")\n",
    "print(f\"Instances with Leakage Removal: {len(test_without_leakage)}\")"
   ]
  },
  {
   "cell_type": "code",
   "execution_count": 72,
   "id": "c4936061",
   "metadata": {},
   "outputs": [],
   "source": [
    "# Remvove leakage in the test data\n",
    "cardiomegaly_data_test = test_without_leakage"
   ]
  },
  {
   "cell_type": "markdown",
   "id": "baad6165-49d9-4f42-b552-e5cb2a1846ca",
   "metadata": {},
   "source": [
    "## Model Training"
   ]
  },
  {
   "cell_type": "code",
   "execution_count": 73,
   "id": "cd50494b",
   "metadata": {},
   "outputs": [],
   "source": [
    "# Define model training parameters\n",
    "num_labels = 1\n",
    "batch_size = 32"
   ]
  },
  {
   "cell_type": "code",
   "execution_count": 74,
   "id": "4f490719-0328-4b3c-abc5-2e0a47706da8",
   "metadata": {},
   "outputs": [],
   "source": [
    "# Split further to obtain validation data\n",
    "X_train, X_valid = train_test_split(cardiomegaly_data_train, test_size=0.2, random_state=101)"
   ]
  },
  {
   "cell_type": "markdown",
   "id": "8c2704e3-28a7-4364-a3d2-f947939134c2",
   "metadata": {},
   "source": [
    "### Define and Create Data Generators"
   ]
  },
  {
   "cell_type": "code",
   "execution_count": 75,
   "id": "7593931d",
   "metadata": {},
   "outputs": [],
   "source": [
    "class ChestImagesDataset(tf.keras.utils.Sequence):\n",
    "    def __init__(self, df, input_folder, batch_size = 32, transform = None, training = True, shuffle = True):\n",
    "        self.df           = df\n",
    "        self.input_folder = input_folder\n",
    "        self.batch_size   = batch_size\n",
    "        self.transform    = transform\n",
    "        self.training     = training\n",
    "        self.shuffle      = shuffle\n",
    "        \n",
    "    def on_epoch_end(self):\n",
    "        if self.shuffle:\n",
    "            self.df = self.df.sample(frac = 1).reset_index(drop = True)\n",
    "    \n",
    "    def __len__(self):\n",
    "        return np.ceil(len(self.df) / self.batch_size).astype(int)\n",
    "    \n",
    "    def __getitem__(self, index):\n",
    "        batch = self.df[index * self.batch_size : (index + 1) * self.batch_size]\n",
    "        \n",
    "        images = []\n",
    "        \n",
    "        for filename in batch[\"Image Index\"]:\n",
    "            path = glob.glob(self.input_folder + \"*/*/\" + filename)[0]\n",
    "            image = PIL.Image.open(path).convert('RGB')\n",
    "            image = np.array(image)\n",
    "            \n",
    "            image = tf.image.resize(image, size=(224,224))\n",
    "            image = tf.cast(image, dtype = tf.float32)\n",
    "            \n",
    "            images.append(image)\n",
    "        \n",
    "        images = np.array(images)\n",
    "        \n",
    "        if self.training:\n",
    "            return images, np.array(batch[\"Cardiomegaly\"].values)\n",
    "        else: \n",
    "            return images\n",
    "    \n",
    "# Create the training and validation data generators\n",
    "train_generator = ChestImagesDataset(X_train, data_folder, batch_size=batch_size, transform=None, shuffle=True)\n",
    "valid_generator = ChestImagesDataset(X_valid, data_folder, batch_size=batch_size, transform=None, shuffle=True)"
   ]
  },
  {
   "cell_type": "markdown",
   "id": "263ae408-b910-4396-bf77-d48e753b17ec",
   "metadata": {},
   "source": [
    "### Define and Create Model"
   ]
  },
  {
   "cell_type": "code",
   "execution_count": 76,
   "id": "946ea7e6",
   "metadata": {},
   "outputs": [],
   "source": [
    "def create_VGG19_model():\n",
    "    inputs = Input(shape=(224, 224, 3))\n",
    "    model = tf.keras.applications.VGG19(\n",
    "        include_top=False,\n",
    "        weights=\"imagenet\",\n",
    "        input_tensor=inputs,\n",
    "        pooling=None,\n",
    "        classifier_activation=\"sigmoid\"\n",
    "    )\n",
    "    model.trainable = False # Freeze the layer\n",
    "    \n",
    "    # Rebuild top\n",
    "    x = GlobalAveragePooling2D(name=\"avg_pool\")(model.output)\n",
    "    x = BatchNormalization()(x)\n",
    "\n",
    "    x = Dropout(0.2, name=\"top_dropout\")(x)\n",
    "    outputs = Dense(num_labels, activation=\"sigmoid\", name=\"pred\")(x)\n",
    "    \n",
    "    # Compile\n",
    "    model = tf.keras.Model(inputs, outputs, name=\"VGG19\")\n",
    "    \n",
    "    # Note : Possibility to assign a learning rate.\n",
    "    model.compile(optimizer=Adam(), \n",
    "                  loss = tf.keras.losses.BinaryCrossentropy(),\n",
    "                  metrics=[\n",
    "        tf.keras.metrics.BinaryAccuracy(),\n",
    "        tf.keras.metrics.Recall(),\n",
    "        tfa.metrics.F1Score(num_classes = num_labels, threshold=0.5),\n",
    "        tf.keras.metrics.AUC()\n",
    "    ])\n",
    "    \n",
    "    return model\n",
    "\n",
    "model = create_VGG19_model()"
   ]
  },
  {
   "cell_type": "markdown",
   "id": "86cd3883-3e0f-42ed-8746-27935957b2aa",
   "metadata": {},
   "source": [
    "### Train Model"
   ]
  },
  {
   "cell_type": "code",
   "execution_count": 77,
   "id": "d1b9db24",
   "metadata": {
    "scrolled": true
   },
   "outputs": [
    {
     "name": "stdout",
     "output_type": "stream",
     "text": [
      "Epoch 1/25\n",
      "63/63 [==============================] - 923s 15s/step - loss: 0.8069 - binary_accuracy: 0.5586 - recall_5: 0.5292 - f1_score: 0.5383 - auc_5: 0.5696 - val_loss: 0.7895 - val_binary_accuracy: 0.5498 - val_recall_5: 0.3538 - val_f1_score: 0.4488 - val_auc_5: 0.5921\n",
      "Epoch 2/25\n",
      "63/63 [==============================] - 1210s 19s/step - loss: 0.7312 - binary_accuracy: 0.5850 - recall_5: 0.5569 - f1_score: 0.5662 - auc_5: 0.6231 - val_loss: 0.7188 - val_binary_accuracy: 0.5777 - val_recall_5: 0.4269 - val_f1_score: 0.5115 - val_auc_5: 0.6274\n",
      "Epoch 3/25\n",
      "63/63 [==============================] - 1500s 24s/step - loss: 0.6701 - binary_accuracy: 0.6329 - recall_5: 0.6338 - f1_score: 0.6268 - auc_5: 0.6812 - val_loss: 0.6750 - val_binary_accuracy: 0.5976 - val_recall_5: 0.5192 - val_f1_score: 0.5720 - val_auc_5: 0.6489\n",
      "Epoch 4/25\n",
      "63/63 [==============================] - 1338s 21s/step - loss: 0.6483 - binary_accuracy: 0.6464 - recall_5: 0.6646 - f1_score: 0.6464 - auc_5: 0.7014 - val_loss: 0.6576 - val_binary_accuracy: 0.6116 - val_recall_5: 0.5577 - val_f1_score: 0.5979 - val_auc_5: 0.6697\n",
      "Epoch 5/25\n",
      "63/63 [==============================] - 1335s 21s/step - loss: 0.6147 - binary_accuracy: 0.6743 - recall_5: 0.6441 - f1_score: 0.6579 - auc_5: 0.7339 - val_loss: 0.6426 - val_binary_accuracy: 0.6076 - val_recall_5: 0.5885 - val_f1_score: 0.6083 - val_auc_5: 0.6831\n",
      "Epoch 6/25\n",
      "63/63 [==============================] - 1309s 21s/step - loss: 0.6010 - binary_accuracy: 0.6753 - recall_5: 0.6759 - f1_score: 0.6694 - auc_5: 0.7450 - val_loss: 0.6397 - val_binary_accuracy: 0.6076 - val_recall_5: 0.6077 - val_f1_score: 0.6160 - val_auc_5: 0.6842\n",
      "Epoch 7/25\n",
      "63/63 [==============================] - 1339s 21s/step - loss: 0.5855 - binary_accuracy: 0.6853 - recall_5: 0.6913 - f1_score: 0.6812 - auc_5: 0.7566 - val_loss: 0.6318 - val_binary_accuracy: 0.6255 - val_recall_5: 0.6192 - val_f1_score: 0.6314 - val_auc_5: 0.6950\n",
      "Epoch 8/25\n",
      "63/63 [==============================] - 1504s 24s/step - loss: 0.5784 - binary_accuracy: 0.6913 - recall_5: 0.6779 - f1_score: 0.6811 - auc_5: 0.7644 - val_loss: 0.6239 - val_binary_accuracy: 0.6355 - val_recall_5: 0.6269 - val_f1_score: 0.6405 - val_auc_5: 0.7093\n",
      "Epoch 9/25\n",
      "63/63 [==============================] - 1361s 22s/step - loss: 0.5749 - binary_accuracy: 0.6933 - recall_5: 0.6872 - f1_score: 0.6854 - auc_5: 0.7685 - val_loss: 0.6118 - val_binary_accuracy: 0.6434 - val_recall_5: 0.6423 - val_f1_score: 0.6511 - val_auc_5: 0.7237\n",
      "Epoch 10/25\n",
      "63/63 [==============================] - 902s 14s/step - loss: 0.5538 - binary_accuracy: 0.7132 - recall_5: 0.7067 - f1_score: 0.7056 - auc_5: 0.7889 - val_loss: 0.6114 - val_binary_accuracy: 0.6414 - val_recall_5: 0.6500 - val_f1_score: 0.6525 - val_auc_5: 0.7218\n",
      "Epoch 11/25\n",
      "63/63 [==============================] - 746s 12s/step - loss: 0.5560 - binary_accuracy: 0.7027 - recall_5: 0.6913 - f1_score: 0.6934 - auc_5: 0.7851 - val_loss: 0.6114 - val_binary_accuracy: 0.6494 - val_recall_5: 0.6577 - val_f1_score: 0.6602 - val_auc_5: 0.7227\n",
      "Epoch 12/25\n",
      "63/63 [==============================] - 552s 9s/step - loss: 0.5466 - binary_accuracy: 0.7042 - recall_5: 0.6769 - f1_score: 0.6900 - auc_5: 0.7934 - val_loss: 0.6069 - val_binary_accuracy: 0.6335 - val_recall_5: 0.6423 - val_f1_score: 0.6448 - val_auc_5: 0.7274\n",
      "Epoch 13/25\n",
      "63/63 [==============================] - 733s 12s/step - loss: 0.5506 - binary_accuracy: 0.7132 - recall_5: 0.7292 - f1_score: 0.7121 - auc_5: 0.7919 - val_loss: 0.6085 - val_binary_accuracy: 0.6554 - val_recall_5: 0.6577 - val_f1_score: 0.6641 - val_auc_5: 0.7254\n",
      "Epoch 14/25\n",
      "63/63 [==============================] - 983s 16s/step - loss: 0.5417 - binary_accuracy: 0.7207 - recall_5: 0.7138 - f1_score: 0.7131 - auc_5: 0.8015 - val_loss: 0.6109 - val_binary_accuracy: 0.6394 - val_recall_5: 0.6192 - val_f1_score: 0.6402 - val_auc_5: 0.7269\n",
      "Epoch 15/25\n",
      "63/63 [==============================] - 824s 13s/step - loss: 0.5266 - binary_accuracy: 0.7242 - recall_5: 0.7005 - f1_score: 0.7118 - auc_5: 0.8124 - val_loss: 0.6064 - val_binary_accuracy: 0.6614 - val_recall_5: 0.6538 - val_f1_score: 0.6667 - val_auc_5: 0.7313\n",
      "Epoch 16/25\n",
      "63/63 [==============================] - 1022s 16s/step - loss: 0.5414 - binary_accuracy: 0.7232 - recall_5: 0.7323 - f1_score: 0.7201 - auc_5: 0.7984 - val_loss: 0.6163 - val_binary_accuracy: 0.6534 - val_recall_5: 0.6500 - val_f1_score: 0.6602 - val_auc_5: 0.7214\n",
      "Epoch 17/25\n",
      "63/63 [==============================] - 976s 16s/step - loss: 0.5328 - binary_accuracy: 0.7297 - recall_5: 0.7364 - f1_score: 0.7260 - auc_5: 0.8054 - val_loss: 0.6060 - val_binary_accuracy: 0.6594 - val_recall_5: 0.6500 - val_f1_score: 0.6640 - val_auc_5: 0.7324\n",
      "Epoch 18/25\n",
      "63/63 [==============================] - 1007s 16s/step - loss: 0.5331 - binary_accuracy: 0.7262 - recall_5: 0.7190 - f1_score: 0.7186 - auc_5: 0.8047 - val_loss: 0.6059 - val_binary_accuracy: 0.6633 - val_recall_5: 0.6577 - val_f1_score: 0.6693 - val_auc_5: 0.7347\n",
      "Epoch 19/25\n",
      "63/63 [==============================] - 1066s 17s/step - loss: 0.5340 - binary_accuracy: 0.7162 - recall_5: 0.7015 - f1_score: 0.7062 - auc_5: 0.8034 - val_loss: 0.6120 - val_binary_accuracy: 0.6514 - val_recall_5: 0.6269 - val_f1_score: 0.6507 - val_auc_5: 0.7268\n",
      "Epoch 20/25\n",
      "63/63 [==============================] - 1005s 16s/step - loss: 0.5281 - binary_accuracy: 0.7282 - recall_5: 0.7354 - f1_score: 0.7246 - auc_5: 0.8094 - val_loss: 0.6072 - val_binary_accuracy: 0.6554 - val_recall_5: 0.6500 - val_f1_score: 0.6614 - val_auc_5: 0.7313\n",
      "Epoch 21/25\n",
      "63/63 [==============================] - 1015s 16s/step - loss: 0.5326 - binary_accuracy: 0.7297 - recall_5: 0.7200 - f1_score: 0.7215 - auc_5: 0.8076 - val_loss: 0.6129 - val_binary_accuracy: 0.6474 - val_recall_5: 0.6654 - val_f1_score: 0.6616 - val_auc_5: 0.7252\n",
      "Epoch 22/25\n",
      "63/63 [==============================] - 1006s 16s/step - loss: 0.5203 - binary_accuracy: 0.7332 - recall_5: 0.7241 - f1_score: 0.7252 - auc_5: 0.8189 - val_loss: 0.6102 - val_binary_accuracy: 0.6554 - val_recall_5: 0.6615 - val_f1_score: 0.6654 - val_auc_5: 0.7292\n",
      "Epoch 23/25\n",
      "63/63 [==============================] - 1003s 16s/step - loss: 0.5275 - binary_accuracy: 0.7307 - recall_5: 0.7333 - f1_score: 0.7259 - auc_5: 0.8120 - val_loss: 0.6104 - val_binary_accuracy: 0.6394 - val_recall_5: 0.6577 - val_f1_score: 0.6539 - val_auc_5: 0.7271\n",
      "Epoch 24/25\n",
      "63/63 [==============================] - 995s 16s/step - loss: 0.5174 - binary_accuracy: 0.7392 - recall_5: 0.7446 - f1_score: 0.7352 - auc_5: 0.8202 - val_loss: 0.6091 - val_binary_accuracy: 0.6355 - val_recall_5: 0.6269 - val_f1_score: 0.6405 - val_auc_5: 0.7299\n",
      "Epoch 25/25\n",
      "63/63 [==============================] - 1009s 16s/step - loss: 0.5292 - binary_accuracy: 0.7367 - recall_5: 0.7210 - f1_score: 0.7270 - auc_5: 0.8121 - val_loss: 0.6070 - val_binary_accuracy: 0.6554 - val_recall_5: 0.6577 - val_f1_score: 0.6641 - val_auc_5: 0.7340\n"
     ]
    }
   ],
   "source": [
    "history = model.fit(train_generator, validation_data=valid_generator, epochs=25, batch_size=batch_size)"
   ]
  },
  {
   "cell_type": "markdown",
   "id": "4c6a70b0-5da8-4053-909b-974de64ac01d",
   "metadata": {},
   "source": [
    "### Save Model"
   ]
  },
  {
   "cell_type": "code",
   "execution_count": 84,
   "id": "5b23452e",
   "metadata": {},
   "outputs": [
    {
     "name": "stderr",
     "output_type": "stream",
     "text": [
      "WARNING:absl:Found untraced functions such as _jit_compiled_convolution_op, _jit_compiled_convolution_op, _jit_compiled_convolution_op, _jit_compiled_convolution_op, _jit_compiled_convolution_op while saving (showing 5 of 16). These functions will not be directly callable after loading.\n"
     ]
    },
    {
     "name": "stdout",
     "output_type": "stream",
     "text": [
      "INFO:tensorflow:Assets written to: 2023-12-01_cardiomegaly_VGG19_25epoch_model\\assets\n"
     ]
    },
    {
     "name": "stderr",
     "output_type": "stream",
     "text": [
      "INFO:tensorflow:Assets written to: 2023-12-01_cardiomegaly_VGG19_25epoch_model\\assets\n"
     ]
    }
   ],
   "source": [
    "model.save(\"2023-12-01_cardiomegaly_VGG19_25epoch_model\")"
   ]
  },
  {
   "cell_type": "markdown",
   "id": "b6e0a019-069b-4a9e-b9e4-55d4841624ef",
   "metadata": {},
   "source": [
    "## Evaluate Model Performance on Validation Data"
   ]
  },
  {
   "cell_type": "code",
   "execution_count": 78,
   "id": "497cfff7",
   "metadata": {},
   "outputs": [
    {
     "data": {
      "image/png": "[encoded data removed]",
      "text/plain": [
       "<Figure size 640x480 with 1 Axes>"
      ]
     },
     "metadata": {},
     "output_type": "display_data"
    }
   ],
   "source": [
    "plt.plot(history.history['loss'])\n",
    "plt.plot(history.history['val_loss'])\n",
    "\n",
    "plt.title('model loss')\n",
    "plt.ylabel('loss')\n",
    "plt.xlabel('epoch')\n",
    "plt.legend(['train', 'test'], loc='upper left')\n",
    "plt.show()"
   ]
  },
  {
   "cell_type": "code",
   "execution_count": 79,
   "id": "a51193ed",
   "metadata": {
    "scrolled": true
   },
   "outputs": [
    {
     "data": {
      "image/png": "[encoded data removed]",
      "text/plain": [
       "<Figure size 640x480 with 1 Axes>"
      ]
     },
     "metadata": {},
     "output_type": "display_data"
    }
   ],
   "source": [
    "plt.plot(history.history['binary_accuracy'])\n",
    "plt.plot(history.history['val_binary_accuracy'])\n",
    "\n",
    "plt.title('model binary accuracy')\n",
    "plt.ylabel('binary accuracy')\n",
    "plt.xlabel('epoch')\n",
    "plt.legend(['train', 'test'], loc='upper left')\n",
    "plt.show()"
   ]
  },
  {
   "cell_type": "code",
   "execution_count": 81,
   "id": "c865268c",
   "metadata": {},
   "outputs": [
    {
     "data": {
      "image/png": "[encoded data removed]",
      "text/plain": [
       "<Figure size 640x480 with 1 Axes>"
      ]
     },
     "metadata": {},
     "output_type": "display_data"
    }
   ],
   "source": [
    "plt.plot(history.history['recall_5'])\n",
    "plt.plot(history.history['val_recall_5'])\n",
    "\n",
    "plt.title('model recall')\n",
    "plt.ylabel('recall')\n",
    "plt.xlabel('epoch')\n",
    "plt.legend(['train', 'test'], loc='upper left')\n",
    "plt.show()"
   ]
  },
  {
   "cell_type": "code",
   "execution_count": 82,
   "id": "e730f6d0",
   "metadata": {},
   "outputs": [
    {
     "data": {
      "image/png": "[encoded data removed]",
      "text/plain": [
       "<Figure size 640x480 with 1 Axes>"
      ]
     },
     "metadata": {},
     "output_type": "display_data"
    }
   ],
   "source": [
    "plt.plot(history.history['f1_score'])\n",
    "plt.plot(history.history['val_f1_score'])\n",
    "\n",
    "plt.title('model f1_score')\n",
    "plt.ylabel('f1_score')\n",
    "plt.xlabel('epoch')\n",
    "plt.legend(['train', 'test'], loc='upper left')\n",
    "plt.show()"
   ]
  },
  {
   "cell_type": "code",
   "execution_count": 83,
   "id": "0b6f3983-c595-4331-89c4-7d827fef04a8",
   "metadata": {},
   "outputs": [
    {
     "data": {
      "image/png": "[encoded data removed]",
      "text/plain": [
       "<Figure size 640x480 with 1 Axes>"
      ]
     },
     "metadata": {},
     "output_type": "display_data"
    }
   ],
   "source": [
    "plt.plot(history.history['auc_5'])\n",
    "plt.plot(history.history['val_auc_5'])\n",
    "\n",
    "plt.title('model auc')\n",
    "plt.ylabel('auc')\n",
    "plt.xlabel('epoch')\n",
    "plt.legend(['train', 'test'], loc='upper left')\n",
    "plt.show()"
   ]
  },
  {
   "cell_type": "markdown",
   "id": "25c7cb97-e100-4bc5-bb58-3b74669e173c",
   "metadata": {},
   "source": [
    "## Model Testing"
   ]
  },
  {
   "cell_type": "code",
   "execution_count": 51,
   "id": "46513f55-d434-407d-96c0-6cfd178737f7",
   "metadata": {},
   "outputs": [],
   "source": [
    "# TODO: Update this whole section to work with cardiomegaly only model"
   ]
  },
  {
   "cell_type": "markdown",
   "id": "510abde0-336e-404f-ad6f-7c4af555381c",
   "metadata": {},
   "source": [
    "### Load and View Model"
   ]
  },
  {
   "cell_type": "code",
   "execution_count": 25,
   "id": "804ce317-c976-46ab-bdaf-88a62806f4ac",
   "metadata": {},
   "outputs": [
    {
     "name": "stdout",
     "output_type": "stream",
     "text": [
      "WARNING:tensorflow:Compiled the loaded model, but the compiled metrics have yet to be built. `model.compile_metrics` will be empty until you train or evaluate the model.\n"
     ]
    }
   ],
   "source": [
    "# Load desired model\n",
    "model = keras.models.load_model(\"2023-11-26_VGG19_model\")"
   ]
  },
  {
   "cell_type": "code",
   "execution_count": 26,
   "id": "3ce79c75-f2c4-4607-9857-2a3b9c367564",
   "metadata": {},
   "outputs": [
    {
     "name": "stdout",
     "output_type": "stream",
     "text": [
      "Model: \"EfficientNet\"\n",
      "_________________________________________________________________\n",
      " Layer (type)                Output Shape              Param #   \n",
      "=================================================================\n",
      " input_2 (InputLayer)        [(None, 224, 224, 3)]     0         \n",
      "                                                                 \n",
      " block1_conv1 (Conv2D)       (None, 224, 224, 64)      1792      \n",
      "                                                                 \n",
      " block1_conv2 (Conv2D)       (None, 224, 224, 64)      36928     \n",
      "                                                                 \n",
      " block1_pool (MaxPooling2D)  (None, 112, 112, 64)      0         \n",
      "                                                                 \n",
      " block2_conv1 (Conv2D)       (None, 112, 112, 128)     73856     \n",
      "                                                                 \n",
      " block2_conv2 (Conv2D)       (None, 112, 112, 128)     147584    \n",
      "                                                                 \n",
      " block2_pool (MaxPooling2D)  (None, 56, 56, 128)       0         \n",
      "                                                                 \n",
      " block3_conv1 (Conv2D)       (None, 56, 56, 256)       295168    \n",
      "                                                                 \n",
      " block3_conv2 (Conv2D)       (None, 56, 56, 256)       590080    \n",
      "                                                                 \n",
      " block3_conv3 (Conv2D)       (None, 56, 56, 256)       590080    \n",
      "                                                                 \n",
      " block3_conv4 (Conv2D)       (None, 56, 56, 256)       590080    \n",
      "                                                                 \n",
      " block3_pool (MaxPooling2D)  (None, 28, 28, 256)       0         \n",
      "                                                                 \n",
      " block4_conv1 (Conv2D)       (None, 28, 28, 512)       1180160   \n",
      "                                                                 \n",
      " block4_conv2 (Conv2D)       (None, 28, 28, 512)       2359808   \n",
      "                                                                 \n",
      " block4_conv3 (Conv2D)       (None, 28, 28, 512)       2359808   \n",
      "                                                                 \n",
      " block4_conv4 (Conv2D)       (None, 28, 28, 512)       2359808   \n",
      "                                                                 \n",
      " block4_pool (MaxPooling2D)  (None, 14, 14, 512)       0         \n",
      "                                                                 \n",
      " block5_conv1 (Conv2D)       (None, 14, 14, 512)       2359808   \n",
      "                                                                 \n",
      " block5_conv2 (Conv2D)       (None, 14, 14, 512)       2359808   \n",
      "                                                                 \n",
      " block5_conv3 (Conv2D)       (None, 14, 14, 512)       2359808   \n",
      "                                                                 \n",
      " block5_conv4 (Conv2D)       (None, 14, 14, 512)       2359808   \n",
      "                                                                 \n",
      " block5_pool (MaxPooling2D)  (None, 7, 7, 512)         0         \n",
      "                                                                 \n",
      " avg_pool (GlobalAveragePool  (None, 512)              0         \n",
      " ing2D)                                                          \n",
      "                                                                 \n",
      " batch_normalization (BatchN  (None, 512)              2048      \n",
      " ormalization)                                                   \n",
      "                                                                 \n",
      " top_dropout (Dropout)       (None, 512)               0         \n",
      "                                                                 \n",
      " pred (Dense)                (None, 15)                7695      \n",
      "                                                                 \n",
      "=================================================================\n",
      "Total params: 20,034,127\n",
      "Trainable params: 8,719\n",
      "Non-trainable params: 20,025,408\n",
      "_________________________________________________________________\n"
     ]
    }
   ],
   "source": [
    "model.summary()"
   ]
  },
  {
   "cell_type": "markdown",
   "id": "3618f3cb-3ae3-455f-85cc-11664aae85f4",
   "metadata": {},
   "source": [
    "### Create Test Data Generator"
   ]
  },
  {
   "cell_type": "code",
   "execution_count": 29,
   "id": "e91e8f81-9f80-48c0-b3a9-a017b25a4fd8",
   "metadata": {},
   "outputs": [
    {
     "name": "stdout",
     "output_type": "stream",
     "text": [
      "193/193 [==============================] - 2567s 13s/step\n"
     ]
    }
   ],
   "source": [
    "test_generator = ChestImagesDataset(dataEntry_test, data_folder, batch_size=batch_size, transform=None, training=False, shuffle=False)"
   ]
  },
  {
   "cell_type": "markdown",
   "id": "2a384ed2-f49b-41b9-9b63-d09bf0477320",
   "metadata": {},
   "source": [
    "### Generate Predictions"
   ]
  },
  {
   "cell_type": "code",
   "execution_count": 30,
   "id": "9affebc1-f5b5-4cd5-b609-5d997f6aa32c",
   "metadata": {},
   "outputs": [
    {
     "data": {
      "text/plain": [
       "array([[0.79042625, 0.20458555, 0.26078647, ..., 0.44531333, 0.0414209 ,\n",
       "        0.17021376],\n",
       "       [0.02404059, 0.9265888 , 0.6882352 , ..., 0.7549929 , 0.05709773,\n",
       "        0.23497593],\n",
       "       [0.2929569 , 0.5437398 , 0.32312417, ..., 0.49077258, 0.04590777,\n",
       "        0.26591033],\n",
       "       ...,\n",
       "       [0.0457311 , 0.23270394, 0.02862629, ..., 0.35899484, 0.09484279,\n",
       "        0.07218479],\n",
       "       [0.25708973, 0.47961923, 0.33637312, ..., 0.31295988, 0.07704621,\n",
       "        0.26209453],\n",
       "       [0.56839365, 0.52594733, 0.859438  , ..., 0.5595214 , 0.29383954,\n",
       "        0.6910809 ]], dtype=float32)"
      ]
     },
     "execution_count": 30,
     "metadata": {},
     "output_type": "execute_result"
    }
   ],
   "source": [
    "predictions = model.predict(test_generator)\n",
    "predictions"
   ]
  },
  {
   "cell_type": "markdown",
   "id": "c578fa54-69aa-4ddd-8034-a1c8808de351",
   "metadata": {},
   "source": [
    "### Evaluate ROC"
   ]
  },
  {
   "cell_type": "code",
   "execution_count": 32,
   "id": "d0fe43fd-a424-4aeb-9db0-c34bca9e41d0",
   "metadata": {},
   "outputs": [
    {
     "data": {
      "text/plain": [
       "0.7545953628118526"
      ]
     },
     "execution_count": 32,
     "metadata": {},
     "output_type": "execute_result"
    }
   ],
   "source": [
    "roc_auc_score(dataEntry_test[uniqueLabels].values, predictions)"
   ]
  },
  {
   "cell_type": "code",
   "execution_count": 35,
   "id": "4c1f63e3-c29b-4be5-bbb0-f776fc152d71",
   "metadata": {},
   "outputs": [
    {
     "data": {
      "image/png": "[encoded data removed]",
      "text/plain": [
       "<Figure size 1000x1000 with 1 Axes>"
      ]
     },
     "metadata": {},
     "output_type": "display_data"
    },
    {
     "data": {
      "text/plain": [
       "[0.8174454141529754,\n",
       " 0.7870336278841434,\n",
       " 0.8611655868879408,\n",
       " 0.6821365301169067,\n",
       " 0.7451331272707554,\n",
       " 0.6170709034528783,\n",
       " 0.8023348350629814,\n",
       " 0.6886826034728905,\n",
       " 0.7716001765895433,\n",
       " 0.752500543596434,\n",
       " 0.7132086455688363,\n",
       " 0.6264972594664426,\n",
       " 0.7689840372308758,\n",
       " 0.9616802168021681,\n",
       " 0.723456934622016]"
      ]
     },
     "execution_count": 35,
     "metadata": {},
     "output_type": "execute_result"
    }
   ],
   "source": [
    "def get_roc_curve(labels, predicted_vals, real_vals):\n",
    "    auc_roc_vals = []\n",
    "    for i in range(len(labels)):\n",
    "        try:\n",
    "            gt = real_vals[:, i]\n",
    "            pred = predicted_vals[:, i]\n",
    "            auc_roc = roc_auc_score(gt, pred)\n",
    "            auc_roc_vals.append(auc_roc)\n",
    "            fpr_rf, tpr_rf, _ = roc_curve(gt, pred)\n",
    "            plt.figure(1, figsize=(10, 10))\n",
    "            plt.plot([0, 1], [0, 1], 'k--')\n",
    "            plt.plot(fpr_rf, tpr_rf,\n",
    "                     label=labels[i] + \" (\" + str(round(auc_roc, 3)) + \")\")\n",
    "            plt.xlabel('False positive rate')\n",
    "            plt.ylabel('True positive rate')\n",
    "            plt.title('ROC curve')\n",
    "            plt.legend(loc='best')\n",
    "        except:\n",
    "            print(\n",
    "                f\"Error in generating ROC curve for {labels[i]}. \"\n",
    "                f\"Dataset lacks enough examples.\"\n",
    "            )\n",
    "    plt.show()\n",
    "    return auc_roc_vals\n",
    "\n",
    "\n",
    "get_roc_curve(list(uniqueLabels), predictions, dataEntry_test[uniqueLabels].values)"
   ]
  },
  {
   "cell_type": "code",
   "execution_count": 38,
   "id": "fe5bc58e-8b1a-411d-bd46-95e21dd0bda5",
   "metadata": {},
   "outputs": [],
   "source": [
    "from sklearn.metrics import multilabel_confusion_matrix"
   ]
  },
  {
   "cell_type": "code",
   "execution_count": 45,
   "id": "448a60cc-eeb3-4a5e-ac75-4e47529a486e",
   "metadata": {},
   "outputs": [
    {
     "data": {
      "text/plain": [
       "array([ 0,  1, 10, ...,  3,  3,  2], dtype=int64)"
      ]
     },
     "execution_count": 45,
     "metadata": {},
     "output_type": "execute_result"
    }
   ],
   "source": [
    "y_pred = np.argmax(predictions, axis=1)\n",
    "y_pred"
   ]
  },
  {
   "cell_type": "code",
   "execution_count": 48,
   "id": "9d994f26-5d87-4410-b69c-9656e694e2a3",
   "metadata": {},
   "outputs": [
    {
     "data": {
      "text/plain": [
       "array([ 8,  2, 10, ...,  7,  3,  2], dtype=int64)"
      ]
     },
     "execution_count": 48,
     "metadata": {},
     "output_type": "execute_result"
    }
   ],
   "source": [
    "y_test = np.argmax(dataEntry_test[uniqueLabels].to_numpy(), axis=1)\n",
    "y_test"
   ]
  },
  {
   "cell_type": "code",
   "execution_count": 53,
   "id": "fd2b3eef-52b5-431f-8c9b-de5aec8afe1f",
   "metadata": {},
   "outputs": [
    {
     "data": {
      "text/plain": [
       "array([[[5528,  463],\n",
       "        [ 107,   61]],\n",
       "\n",
       "       [[6001,  115],\n",
       "        [  29,   14]],\n",
       "\n",
       "       [[5883,   96],\n",
       "        [ 128,   52]],\n",
       "\n",
       "       [[1163,  545],\n",
       "        [1886, 2565]],\n",
       "\n",
       "       [[5634,  514],\n",
       "        [  10,    1]],\n",
       "\n",
       "       [[5449,   73],\n",
       "        [ 619,   18]],\n",
       "\n",
       "       [[5961,   74],\n",
       "        [ 117,    7]],\n",
       "\n",
       "       [[5847,  142],\n",
       "        [ 156,   14]],\n",
       "\n",
       "       [[5821,  150],\n",
       "        [ 168,   20]],\n",
       "\n",
       "       [[6044,  103],\n",
       "        [  12,    0]],\n",
       "\n",
       "       [[5886,  196],\n",
       "        [  72,    5]],\n",
       "\n",
       "       [[6085,   59],\n",
       "        [  15,    0]],\n",
       "\n",
       "       [[5338,  769],\n",
       "        [  34,   18]],\n",
       "\n",
       "       [[6090,   67],\n",
       "        [   1,    1]],\n",
       "\n",
       "       [[6113,   17],\n",
       "        [  29,    0]]], dtype=int64)"
      ]
     },
     "execution_count": 53,
     "metadata": {},
     "output_type": "execute_result"
    }
   ],
   "source": [
    "# https://stackoverflow.com/questions/48987959/classification-metrics-cant-handle-a-mix-of-continuous-multioutput-and-multi-la\n",
    "conf_mat = multilabel_confusion_matrix(y_test, y_pred)\n",
    "conf_mat"
   ]
  },
  {
   "cell_type": "code",
   "execution_count": 62,
   "id": "6a44354c-10b0-4f5c-aa58-f3bdca20b99b",
   "metadata": {},
   "outputs": [],
   "source": [
    "from sklearn.metrics import classification_report"
   ]
  },
  {
   "cell_type": "code",
   "execution_count": 67,
   "id": "b89421ea-5594-4414-a3e2-6f1cfa0f0592",
   "metadata": {},
   "outputs": [
    {
     "data": {
      "text/plain": [
       "array(['Cardiomegaly', 'Emphysema', 'Effusion', 'No Finding', 'Hernia',\n",
       "       'Infiltration', 'Mass', 'Nodule', 'Atelectasis', 'Pneumothorax',\n",
       "       'Pleural_Thickening', 'Pneumonia', 'Fibrosis', 'Edema',\n",
       "       'Consolidation'], dtype=object)"
      ]
     },
     "execution_count": 67,
     "metadata": {},
     "output_type": "execute_result"
    }
   ],
   "source": [
    "uniqueLabels"
   ]
  },
  {
   "cell_type": "code",
   "execution_count": 82,
   "id": "33fafcbe-6051-4ec1-8f84-4c8bd7605703",
   "metadata": {},
   "outputs": [
    {
     "data": {
      "text/plain": [
       "['0',\n",
       " '1',\n",
       " '2',\n",
       " '3',\n",
       " '4',\n",
       " '5',\n",
       " '6',\n",
       " '7',\n",
       " '8',\n",
       " '9',\n",
       " '10',\n",
       " '11',\n",
       " '12',\n",
       " '13',\n",
       " '14']"
      ]
     },
     "execution_count": 82,
     "metadata": {},
     "output_type": "execute_result"
    }
   ],
   "source": [
    "indices = list(range(0, len(uniqueLabels)))\n",
    "indices = list(map(str, indices))\n",
    "indices"
   ]
  },
  {
   "cell_type": "code",
   "execution_count": 83,
   "id": "19a9ec65-17f8-40bf-89e3-38798bc2f0ef",
   "metadata": {},
   "outputs": [
    {
     "data": {
      "text/plain": [
       "{'0': 'Cardiomegaly',\n",
       " '1': 'Emphysema',\n",
       " '2': 'Effusion',\n",
       " '3': 'No Finding',\n",
       " '4': 'Hernia',\n",
       " '5': 'Infiltration',\n",
       " '6': 'Mass',\n",
       " '7': 'Nodule',\n",
       " '8': 'Atelectasis',\n",
       " '9': 'Pneumothorax',\n",
       " '10': 'Pleural_Thickening',\n",
       " '11': 'Pneumonia',\n",
       " '12': 'Fibrosis',\n",
       " '13': 'Edema',\n",
       " '14': 'Consolidation'}"
      ]
     },
     "execution_count": 83,
     "metadata": {},
     "output_type": "execute_result"
    }
   ],
   "source": [
    "labelDict = dict(zip(indices, uniqueLabels))\n",
    "labelDict"
   ]
  },
  {
   "cell_type": "code",
   "execution_count": 77,
   "id": "aacf721e-7fc9-4bd6-831b-1ea9e5228a62",
   "metadata": {},
   "outputs": [
    {
     "data": {
      "text/plain": [
       "[int, int, int, int, int, int, int, int, int, int, int, int, int, int, int]"
      ]
     },
     "execution_count": 77,
     "metadata": {},
     "output_type": "execute_result"
    }
   ],
   "source": [
    "#[type(k) for k in labelDict.keys()]"
   ]
  },
  {
   "cell_type": "code",
   "execution_count": 84,
   "id": "dbdefba7-52fb-4840-b803-04979e2bda8d",
   "metadata": {},
   "outputs": [],
   "source": [
    "class_report_dict = classification_report(y_test, y_pred, output_dict=True)"
   ]
  },
  {
   "cell_type": "code",
   "execution_count": 88,
   "id": "ef167e15-a0bf-41a2-a82e-4c902bd96e22",
   "metadata": {},
   "outputs": [
    {
     "data": {
      "text/plain": [
       "dict_keys(['0', '1', '2', '3', '4', '5', '6', '7', '8', '9', '10', '11', '12', '13', '14'])"
      ]
     },
     "execution_count": 88,
     "metadata": {},
     "output_type": "execute_result"
    }
   ],
   "source": [
    "class_report_dict = {k: class_report_dict.get(k, None) for k in indices}\n",
    "class_report_dict.keys()"
   ]
  },
  {
   "cell_type": "code",
   "execution_count": 79,
   "id": "8946f5fa-24a8-4827-a1d6-0340c10a3d60",
   "metadata": {},
   "outputs": [
    {
     "data": {
      "text/plain": [
       "[str,\n",
       " str,\n",
       " str,\n",
       " str,\n",
       " str,\n",
       " str,\n",
       " str,\n",
       " str,\n",
       " str,\n",
       " str,\n",
       " str,\n",
       " str,\n",
       " str,\n",
       " str,\n",
       " str,\n",
       " str,\n",
       " str,\n",
       " str]"
      ]
     },
     "execution_count": 79,
     "metadata": {},
     "output_type": "execute_result"
    }
   ],
   "source": [
    "#[type(k) for k in class_report_dict.keys()]"
   ]
  },
  {
   "cell_type": "code",
   "execution_count": 89,
   "id": "37f24310-73de-4016-aa6f-b91e99bb557a",
   "metadata": {},
   "outputs": [],
   "source": [
    "#https://stackoverflow.com/questions/17933168/replace-dictionary-keys-strings-in-python\n",
    "labelled_class_report = {labelDict[k]: v for k, v in class_report_dict.items()}"
   ]
  },
  {
   "cell_type": "code",
   "execution_count": 90,
   "id": "e1cad7f6-456b-492f-91ca-1440ddce896f",
   "metadata": {},
   "outputs": [
    {
     "data": {
      "text/plain": [
       "{'Cardiomegaly': {'precision': 0.11641221374045801,\n",
       "  'recall': 0.3630952380952381,\n",
       "  'f1-score': 0.17630057803468208,\n",
       "  'support': 168.0},\n",
       " 'Emphysema': {'precision': 0.10852713178294573,\n",
       "  'recall': 0.32558139534883723,\n",
       "  'f1-score': 0.16279069767441862,\n",
       "  'support': 43.0},\n",
       " 'Effusion': {'precision': 0.35135135135135137,\n",
       "  'recall': 0.28888888888888886,\n",
       "  'f1-score': 0.31707317073170727,\n",
       "  'support': 180.0},\n",
       " 'No Finding': {'precision': 0.8247588424437299,\n",
       "  'recall': 0.5762749943832847,\n",
       "  'f1-score': 0.6784816823171538,\n",
       "  'support': 4451.0},\n",
       " 'Hernia': {'precision': 0.001941747572815534,\n",
       "  'recall': 0.09090909090909091,\n",
       "  'f1-score': 0.0038022813688212923,\n",
       "  'support': 11.0},\n",
       " 'Infiltration': {'precision': 0.1978021978021978,\n",
       "  'recall': 0.0282574568288854,\n",
       "  'f1-score': 0.049450549450549455,\n",
       "  'support': 637.0},\n",
       " 'Mass': {'precision': 0.08641975308641975,\n",
       "  'recall': 0.056451612903225805,\n",
       "  'f1-score': 0.06829268292682926,\n",
       "  'support': 124.0},\n",
       " 'Nodule': {'precision': 0.08974358974358974,\n",
       "  'recall': 0.08235294117647059,\n",
       "  'f1-score': 0.08588957055214724,\n",
       "  'support': 170.0},\n",
       " 'Atelectasis': {'precision': 0.11764705882352941,\n",
       "  'recall': 0.10638297872340426,\n",
       "  'f1-score': 0.11173184357541899,\n",
       "  'support': 188.0},\n",
       " 'Pneumothorax': {'precision': 0.0,\n",
       "  'recall': 0.0,\n",
       "  'f1-score': 0.0,\n",
       "  'support': 12.0},\n",
       " 'Pleural_Thickening': {'precision': 0.024875621890547265,\n",
       "  'recall': 0.06493506493506493,\n",
       "  'f1-score': 0.03597122302158274,\n",
       "  'support': 77.0},\n",
       " 'Pneumonia': {'precision': 0.0,\n",
       "  'recall': 0.0,\n",
       "  'f1-score': 0.0,\n",
       "  'support': 15.0},\n",
       " 'Fibrosis': {'precision': 0.022871664548919948,\n",
       "  'recall': 0.34615384615384615,\n",
       "  'f1-score': 0.04290822407628129,\n",
       "  'support': 52.0},\n",
       " 'Edema': {'precision': 0.014705882352941176,\n",
       "  'recall': 0.5,\n",
       "  'f1-score': 0.028571428571428574,\n",
       "  'support': 2.0},\n",
       " 'Consolidation': {'precision': 0.0,\n",
       "  'recall': 0.0,\n",
       "  'f1-score': 0.0,\n",
       "  'support': 29.0}}"
      ]
     },
     "execution_count": 90,
     "metadata": {},
     "output_type": "execute_result"
    }
   ],
   "source": [
    "labelled_class_report"
   ]
  }
 ],
 "metadata": {
  "kernelspec": {
   "display_name": "Python 3 (ipykernel)",
   "language": "python",
   "name": "python3"
  },
  "language_info": {
   "codemirror_mode": {
    "name": "ipython",
    "version": 3
   },
   "file_extension": ".py",
   "mimetype": "text/x-python",
   "name": "python",
   "nbconvert_exporter": "python",
   "pygments_lexer": "ipython3",
   "version": "3.8.15"
  }
 },
 "nbformat": 4,
 "nbformat_minor": 5
}
