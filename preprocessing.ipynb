{
 "cells": [
  {
   "cell_type": "markdown",
   "id": "cd6bb830",
   "metadata": {},
   "source": [
    "# ChestX-ray 14 Data Preprocessing\n",
    "## Madison Moffat-Wild and Rachel Woodside\n",
    "\n",
    "### https://paperswithcode.com/dataset/chestx-ray14\n",
    "### https://www.kaggle.com/datasets/nih-chest-xrays/data/data\n",
    "\n",
    "Resources:\n",
    "https://machinelearningmastery.com/best-practices-for-preparing-and-augmenting-image-data-for-convolutional-neural-networks/"
   ]
  },
  {
   "cell_type": "code",
   "execution_count": null,
   "id": "7b2b12c8",
   "metadata": {},
   "outputs": [],
   "source": [
    "# T\n",
    "# pruning some categories with multiple findings, balancing data set with resampling\n",
    "# checking for correlation for feature selection"
   ]
  },
  {
   "cell_type": "markdown",
   "id": "93ff38ed",
   "metadata": {},
   "source": [
    "## Data Cleaning"
   ]
  },
  {
   "cell_type": "code",
   "execution_count": null,
   "id": "62b409a6",
   "metadata": {},
   "outputs": [],
   "source": [
    "# TODO: fixing nonsensical values"
   ]
  },
  {
   "cell_type": "markdown",
   "id": "af25c413",
   "metadata": {},
   "source": [
    "## Data Integration"
   ]
  },
  {
   "cell_type": "code",
   "execution_count": null,
   "id": "f0d81f65",
   "metadata": {},
   "outputs": [],
   "source": [
    "# TODO: convert images to arrays of pixel values?"
   ]
  },
  {
   "cell_type": "markdown",
   "id": "932ed679",
   "metadata": {},
   "source": [
    "## Data Reduction"
   ]
  },
  {
   "cell_type": "markdown",
   "id": "3cd25743",
   "metadata": {},
   "source": [
    "## Data Transformation"
   ]
  },
  {
   "cell_type": "code",
   "execution_count": null,
   "id": "4e4bf6e2",
   "metadata": {},
   "outputs": [],
   "source": [
    "# TODO: Normalize pixel values?\n",
    "# TODO: Reshape images"
   ]
  }
 ],
 "metadata": {
  "kernelspec": {
   "display_name": "Python 3 (ipykernel)",
   "language": "python",
   "name": "python3"
  },
  "language_info": {
   "codemirror_mode": {
    "name": "ipython",
    "version": 3
   },
   "file_extension": ".py",
   "mimetype": "text/x-python",
   "name": "python",
   "nbconvert_exporter": "python",
   "pygments_lexer": "ipython3",
   "version": "3.8.18"
  }
 },
 "nbformat": 4,
 "nbformat_minor": 5
}
